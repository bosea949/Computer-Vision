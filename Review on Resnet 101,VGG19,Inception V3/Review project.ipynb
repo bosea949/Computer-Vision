{
  "nbformat": 4,
  "nbformat_minor": 0,
  "metadata": {
    "colab": {
      "name": "CV final project part 2.ipynb",
      "provenance": [],
      "collapsed_sections": []
    },
    "kernelspec": {
      "name": "python3",
      "display_name": "Python 3"
    },
    "accelerator": "GPU"
  },
  "cells": [
    {
      "cell_type": "code",
      "metadata": {
        "id": "vvdhJtaTkbnm",
        "colab_type": "code",
        "colab": {
          "base_uri": "https://localhost:8080/",
          "height": 34
        },
        "outputId": "e7d17287-d6ec-416e-e22f-902b42ce5479"
      },
      "source": [
        "from google.colab import drive\n",
        "drive.mount('/content/drive/')"
      ],
      "execution_count": null,
      "outputs": [
        {
          "output_type": "stream",
          "text": [
            "Drive already mounted at /content/drive/; to attempt to forcibly remount, call drive.mount(\"/content/drive/\", force_remount=True).\n"
          ],
          "name": "stdout"
        }
      ]
    },
    {
      "cell_type": "code",
      "metadata": {
        "id": "ZTsNVg4OsWi3",
        "colab_type": "code",
        "colab": {}
      },
      "source": [
        "import  numpy as np\n",
        "import matplotlib.pyplot as plt\n",
        "import time"
      ],
      "execution_count": null,
      "outputs": []
    },
    {
      "cell_type": "code",
      "metadata": {
        "id": "IDxQmrD2DhBY",
        "colab_type": "code",
        "colab": {
          "base_uri": "https://localhost:8080/",
          "height": 34
        },
        "outputId": "53fa8f2d-9a4c-443b-a805-09cbf4b59da7"
      },
      "source": [
        "import tensorflow as tf \n",
        "tf.test.gpu_device_name() "
      ],
      "execution_count": null,
      "outputs": [
        {
          "output_type": "execute_result",
          "data": {
            "text/plain": [
              "'/device:GPU:0'"
            ]
          },
          "metadata": {
            "tags": []
          },
          "execution_count": 130
        }
      ]
    },
    {
      "cell_type": "code",
      "metadata": {
        "id": "NzCPTR2LX8aG",
        "colab_type": "code",
        "colab": {}
      },
      "source": [
        "import keras\n",
        "from keras.preprocessing.image import ImageDataGenerator\n",
        "from keras.utils import to_categorical\n",
        "from keras.models import Sequential\n",
        "from keras.optimizers import SGD\n",
        "from keras.layers import Dense,Dropout,BatchNormalization,Flatten,LeakyReLU"
      ],
      "execution_count": null,
      "outputs": []
    },
    {
      "cell_type": "code",
      "metadata": {
        "id": "C-7iAZ9cQ40G",
        "colab_type": "code",
        "colab": {}
      },
      "source": [
        "from keras.applications.resnet import ResNet101\n",
        "from keras.applications.resnet import preprocess_input"
      ],
      "execution_count": null,
      "outputs": []
    },
    {
      "cell_type": "code",
      "metadata": {
        "id": "bzfHfiQHg1hZ",
        "colab_type": "code",
        "colab": {}
      },
      "source": [
        "image_size=224\n",
        "BATCH_SIZE=32"
      ],
      "execution_count": null,
      "outputs": []
    },
    {
      "cell_type": "code",
      "metadata": {
        "id": "YOdFPUMNm6TK",
        "colab_type": "code",
        "colab": {}
      },
      "source": [
        "train_datagenerator = ImageDataGenerator(dtype='float32',preprocessing_function=preprocess_input,horizontal_flip=True,validation_split=1/3,rotation_range=20, zoom_range=0.15,\n",
        "\twidth_shift_range=0.2, height_shift_range=0.2, shear_range=0.15,\n",
        "fill_mode=\"nearest\")"
      ],
      "execution_count": null,
      "outputs": []
    },
    {
      "cell_type": "code",
      "metadata": {
        "id": "ro0d1xA7nKSz",
        "colab_type": "code",
        "colab": {
          "base_uri": "https://localhost:8080/",
          "height": 34
        },
        "outputId": "63da3bb5-cd5b-41b3-b830-9e62f8fd864a"
      },
      "source": [
        "train_generator = train_datagenerator.flow_from_directory(\n",
        "        '/content/drive/My Drive/Data/Images/final part2 data/data/train',\n",
        "        target_size=(image_size, image_size),\n",
        "        batch_size=BATCH_SIZE,\n",
        "        class_mode='categorical',subset=\"training\")"
      ],
      "execution_count": null,
      "outputs": [
        {
          "output_type": "stream",
          "text": [
            "Found 3600 images belonging to 15 classes.\n"
          ],
          "name": "stdout"
        }
      ]
    },
    {
      "cell_type": "code",
      "metadata": {
        "id": "_YYStQPLrs-W",
        "colab_type": "code",
        "colab": {
          "base_uri": "https://localhost:8080/",
          "height": 34
        },
        "outputId": "5d135a0e-be79-4d9c-eff0-aa4c8d23975f"
      },
      "source": [
        "validation_generator=train_datagenerator.flow_from_directory(\n",
        "        '/content/drive/My Drive/Data/Images/final part2 data/data/train',\n",
        "        target_size=(image_size, image_size),\n",
        "        batch_size=BATCH_SIZE,\n",
        "        class_mode='categorical',subset=\"validation\")"
      ],
      "execution_count": null,
      "outputs": [
        {
          "output_type": "stream",
          "text": [
            "Found 1800 images belonging to 15 classes.\n"
          ],
          "name": "stdout"
        }
      ]
    },
    {
      "cell_type": "code",
      "metadata": {
        "id": "C6xBIEMry1ub",
        "colab_type": "code",
        "colab": {}
      },
      "source": [
        "test_datagenerator = ImageDataGenerator(dtype='float32',preprocessing_function=preprocess_input,horizontal_flip=True,rotation_range=20, zoom_range=0.15,\n",
        "\twidth_shift_range=0.2, height_shift_range=0.2, shear_range=0.15,\n",
        "fill_mode=\"nearest\")"
      ],
      "execution_count": null,
      "outputs": []
    },
    {
      "cell_type": "code",
      "metadata": {
        "id": "N2zsYPTmy3LK",
        "colab_type": "code",
        "colab": {
          "base_uri": "https://localhost:8080/",
          "height": 34
        },
        "outputId": "7202fad9-6528-49c1-d2b4-c60c4387ec09"
      },
      "source": [
        "test_generator = test_datagenerator.flow_from_directory(\n",
        "        '/content/drive/My Drive/Data/Images/final part2 data/data/test',\n",
        "        target_size=(image_size, image_size),\n",
        "        batch_size=1,\n",
        "        class_mode='categorical')"
      ],
      "execution_count": null,
      "outputs": [
        {
          "output_type": "stream",
          "text": [
            "Found 1800 images belonging to 15 classes.\n"
          ],
          "name": "stdout"
        }
      ]
    },
    {
      "cell_type": "markdown",
      "metadata": {
        "id": "NLn8E6g_gjMh",
        "colab_type": "text"
      },
      "source": [
        "### ResNet101\n"
      ]
    },
    {
      "cell_type": "code",
      "metadata": {
        "id": "nqy_oCMqga_J",
        "colab_type": "code",
        "colab": {}
      },
      "source": [
        "resnet101=ResNet101(include_top=False,input_shape=(224,224,3), pooling = 'avg', weights='imagenet')"
      ],
      "execution_count": null,
      "outputs": []
    },
    {
      "cell_type": "code",
      "metadata": {
        "id": "gFupQYcoy_mK",
        "colab_type": "code",
        "colab": {}
      },
      "source": [
        "model=Sequential()\n",
        "model.add(resnet101)\n",
        "\n",
        "\n",
        "#ANN\n",
        "model.add(Dense(512))\n",
        "model.add(LeakyReLU(0.25))\n",
        "model.add(Dropout(0.5))\n",
        "\n",
        "model.layers[0].trainable = False\n",
        "model.add(Dense(15, activation='softmax'))\n",
        "\n",
        "model.compile(optimizer=SGD(lr=0.01, decay=1e-6, momentum=0.9, nesterov=True), loss='categorical_crossentropy', metrics=['accuracy'])"
      ],
      "execution_count": null,
      "outputs": []
    },
    {
      "cell_type": "code",
      "metadata": {
        "id": "Y0ypuAtCzAF0",
        "colab_type": "code",
        "colab": {
          "base_uri": "https://localhost:8080/",
          "height": 330
        },
        "outputId": "d1a1281e-45a4-4ff3-a000-ffc92e0e19b8"
      },
      "source": [
        "model.summary()"
      ],
      "execution_count": null,
      "outputs": [
        {
          "output_type": "stream",
          "text": [
            "Model: \"sequential_14\"\n",
            "_________________________________________________________________\n",
            "Layer (type)                 Output Shape              Param #   \n",
            "=================================================================\n",
            "resnet101 (Model)            (None, 2048)              42658176  \n",
            "_________________________________________________________________\n",
            "dense_27 (Dense)             (None, 512)               1049088   \n",
            "_________________________________________________________________\n",
            "leaky_re_lu_14 (LeakyReLU)   (None, 512)               0         \n",
            "_________________________________________________________________\n",
            "dropout_14 (Dropout)         (None, 512)               0         \n",
            "_________________________________________________________________\n",
            "dense_28 (Dense)             (None, 15)                7695      \n",
            "=================================================================\n",
            "Total params: 43,714,959\n",
            "Trainable params: 1,056,783\n",
            "Non-trainable params: 42,658,176\n",
            "_________________________________________________________________\n"
          ],
          "name": "stdout"
        }
      ]
    },
    {
      "cell_type": "code",
      "metadata": {
        "id": "Y2uniu6MwFFo",
        "colab_type": "code",
        "colab": {
          "base_uri": "https://localhost:8080/",
          "height": 1000
        },
        "outputId": "ae74dd97-8472-4211-8f1a-ffbf4cd78b54"
      },
      "source": [
        "start=time.time()\n",
        "\n",
        "history=model.fit_generator(\n",
        "    train_generator,\n",
        "    steps_per_epoch = 10,\n",
        "    validation_data = validation_generator, \n",
        "    validation_steps = 10,\n",
        "    epochs =50)\n",
        "\n",
        "end=time.time()\n",
        "print(\"\\n\")\n",
        "print(\"Total training time:\", (end-start)/60,\" minutes.\")"
      ],
      "execution_count": null,
      "outputs": [
        {
          "output_type": "stream",
          "text": [
            "Epoch 1/50\n",
            "10/10 [==============================] - 29s 3s/step - loss: 2.5632 - accuracy: 0.2250 - val_loss: 0.9562 - val_accuracy: 0.6906\n",
            "Epoch 2/50\n",
            "10/10 [==============================] - 13s 1s/step - loss: 1.2075 - accuracy: 0.5921 - val_loss: 0.8324 - val_accuracy: 0.8000\n",
            "Epoch 3/50\n",
            "10/10 [==============================] - 17s 2s/step - loss: 0.8239 - accuracy: 0.7281 - val_loss: 0.3203 - val_accuracy: 0.8687\n",
            "Epoch 4/50\n",
            "10/10 [==============================] - 18s 2s/step - loss: 0.6825 - accuracy: 0.7781 - val_loss: 0.8006 - val_accuracy: 0.8219\n",
            "Epoch 5/50\n",
            "10/10 [==============================] - 19s 2s/step - loss: 0.6144 - accuracy: 0.7969 - val_loss: 0.5337 - val_accuracy: 0.8969\n",
            "Epoch 6/50\n",
            "10/10 [==============================] - 18s 2s/step - loss: 0.5813 - accuracy: 0.8031 - val_loss: 0.3109 - val_accuracy: 0.8615\n",
            "Epoch 7/50\n",
            "10/10 [==============================] - 15s 2s/step - loss: 0.6593 - accuracy: 0.7750 - val_loss: 0.2187 - val_accuracy: 0.8969\n",
            "Epoch 8/50\n",
            "10/10 [==============================] - 19s 2s/step - loss: 0.5424 - accuracy: 0.8094 - val_loss: 0.5291 - val_accuracy: 0.8656\n",
            "Epoch 9/50\n",
            "10/10 [==============================] - 17s 2s/step - loss: 0.4469 - accuracy: 0.8594 - val_loss: 0.2836 - val_accuracy: 0.8875\n",
            "Epoch 10/50\n",
            "10/10 [==============================] - 17s 2s/step - loss: 0.4667 - accuracy: 0.8438 - val_loss: 0.4038 - val_accuracy: 0.8781\n",
            "Epoch 11/50\n",
            "10/10 [==============================] - 18s 2s/step - loss: 0.5339 - accuracy: 0.8344 - val_loss: 0.2512 - val_accuracy: 0.8875\n",
            "Epoch 12/50\n",
            "10/10 [==============================] - 20s 2s/step - loss: 0.3320 - accuracy: 0.9062 - val_loss: 0.2997 - val_accuracy: 0.8784\n",
            "Epoch 13/50\n",
            "10/10 [==============================] - 14s 1s/step - loss: 0.4110 - accuracy: 0.8719 - val_loss: 0.1847 - val_accuracy: 0.8750\n",
            "Epoch 14/50\n",
            "10/10 [==============================] - 19s 2s/step - loss: 0.4312 - accuracy: 0.8500 - val_loss: 0.1532 - val_accuracy: 0.8906\n",
            "Epoch 15/50\n",
            "10/10 [==============================] - 17s 2s/step - loss: 0.4903 - accuracy: 0.8355 - val_loss: 0.8006 - val_accuracy: 0.8719\n",
            "Epoch 16/50\n",
            "10/10 [==============================] - 16s 2s/step - loss: 0.4446 - accuracy: 0.8500 - val_loss: 0.4319 - val_accuracy: 0.8969\n",
            "Epoch 17/50\n",
            "10/10 [==============================] - 17s 2s/step - loss: 0.3757 - accuracy: 0.8938 - val_loss: 0.1788 - val_accuracy: 0.8719\n",
            "Epoch 18/50\n",
            "10/10 [==============================] - 21s 2s/step - loss: 0.3284 - accuracy: 0.8781 - val_loss: 0.0966 - val_accuracy: 0.8682\n",
            "Epoch 19/50\n",
            "10/10 [==============================] - 14s 1s/step - loss: 0.2669 - accuracy: 0.9094 - val_loss: 0.1917 - val_accuracy: 0.9031\n",
            "Epoch 20/50\n",
            "10/10 [==============================] - 17s 2s/step - loss: 0.3519 - accuracy: 0.8844 - val_loss: 0.1272 - val_accuracy: 0.8875\n",
            "Epoch 21/50\n",
            "10/10 [==============================] - 18s 2s/step - loss: 0.3909 - accuracy: 0.8750 - val_loss: 0.1190 - val_accuracy: 0.8687\n",
            "Epoch 22/50\n",
            "10/10 [==============================] - 17s 2s/step - loss: 0.4489 - accuracy: 0.8625 - val_loss: 0.8186 - val_accuracy: 0.8906\n",
            "Epoch 23/50\n",
            "10/10 [==============================] - 17s 2s/step - loss: 0.3239 - accuracy: 0.8844 - val_loss: 0.2525 - val_accuracy: 0.8818\n",
            "Epoch 24/50\n",
            "10/10 [==============================] - 14s 1s/step - loss: 0.2955 - accuracy: 0.8750 - val_loss: 0.6315 - val_accuracy: 0.9000\n",
            "Epoch 25/50\n",
            "10/10 [==============================] - 18s 2s/step - loss: 0.2647 - accuracy: 0.9281 - val_loss: 0.2012 - val_accuracy: 0.9000\n",
            "Epoch 26/50\n",
            "10/10 [==============================] - 16s 2s/step - loss: 0.3568 - accuracy: 0.8906 - val_loss: 0.7042 - val_accuracy: 0.8938\n",
            "Epoch 27/50\n",
            "10/10 [==============================] - 18s 2s/step - loss: 0.3695 - accuracy: 0.8750 - val_loss: 0.1791 - val_accuracy: 0.8906\n",
            "Epoch 28/50\n",
            "10/10 [==============================] - 16s 2s/step - loss: 0.3224 - accuracy: 0.8781 - val_loss: 0.4107 - val_accuracy: 0.8687\n",
            "Epoch 29/50\n",
            "10/10 [==============================] - 18s 2s/step - loss: 0.3585 - accuracy: 0.8625 - val_loss: 0.2835 - val_accuracy: 0.9020\n",
            "Epoch 30/50\n",
            "10/10 [==============================] - 17s 2s/step - loss: 0.3544 - accuracy: 0.8656 - val_loss: 0.2822 - val_accuracy: 0.8844\n",
            "Epoch 31/50\n",
            "10/10 [==============================] - 17s 2s/step - loss: 0.2698 - accuracy: 0.9094 - val_loss: 0.7977 - val_accuracy: 0.8750\n",
            "Epoch 32/50\n",
            "10/10 [==============================] - 17s 2s/step - loss: 0.3313 - accuracy: 0.9125 - val_loss: 0.3806 - val_accuracy: 0.8562\n",
            "Epoch 33/50\n",
            "10/10 [==============================] - 17s 2s/step - loss: 0.2944 - accuracy: 0.8969 - val_loss: 0.5278 - val_accuracy: 0.9125\n",
            "Epoch 34/50\n",
            "10/10 [==============================] - 17s 2s/step - loss: 0.3520 - accuracy: 0.8750 - val_loss: 0.1230 - val_accuracy: 0.9187\n",
            "Epoch 35/50\n",
            "10/10 [==============================] - 19s 2s/step - loss: 0.2891 - accuracy: 0.8969 - val_loss: 0.3029 - val_accuracy: 0.9054\n",
            "Epoch 36/50\n",
            "10/10 [==============================] - 13s 1s/step - loss: 0.3107 - accuracy: 0.8875 - val_loss: 0.2364 - val_accuracy: 0.9125\n",
            "Epoch 37/50\n",
            "10/10 [==============================] - 17s 2s/step - loss: 0.2502 - accuracy: 0.9156 - val_loss: 0.0565 - val_accuracy: 0.9031\n",
            "Epoch 38/50\n",
            "10/10 [==============================] - 18s 2s/step - loss: 0.2611 - accuracy: 0.9062 - val_loss: 0.3285 - val_accuracy: 0.9094\n",
            "Epoch 39/50\n",
            "10/10 [==============================] - 18s 2s/step - loss: 0.2190 - accuracy: 0.9375 - val_loss: 0.1825 - val_accuracy: 0.8813\n",
            "Epoch 40/50\n",
            "10/10 [==============================] - 16s 2s/step - loss: 0.3091 - accuracy: 0.8813 - val_loss: 0.3008 - val_accuracy: 0.9088\n",
            "Epoch 41/50\n",
            "10/10 [==============================] - 17s 2s/step - loss: 0.3709 - accuracy: 0.8781 - val_loss: 0.7370 - val_accuracy: 0.8594\n",
            "Epoch 42/50\n",
            "10/10 [==============================] - 17s 2s/step - loss: 0.2769 - accuracy: 0.9079 - val_loss: 0.2911 - val_accuracy: 0.8906\n",
            "Epoch 43/50\n",
            "10/10 [==============================] - 16s 2s/step - loss: 0.4249 - accuracy: 0.8687 - val_loss: 0.2747 - val_accuracy: 0.9000\n",
            "Epoch 44/50\n",
            "10/10 [==============================] - 18s 2s/step - loss: 0.3977 - accuracy: 0.8875 - val_loss: 0.4892 - val_accuracy: 0.8719\n",
            "Epoch 45/50\n",
            "10/10 [==============================] - 17s 2s/step - loss: 0.2586 - accuracy: 0.9156 - val_loss: 0.2699 - val_accuracy: 0.8813\n",
            "Epoch 46/50\n",
            "10/10 [==============================] - 18s 2s/step - loss: 0.2741 - accuracy: 0.9125 - val_loss: 0.4439 - val_accuracy: 0.8953\n",
            "Epoch 47/50\n",
            "10/10 [==============================] - 16s 2s/step - loss: 0.2830 - accuracy: 0.9094 - val_loss: 1.0720 - val_accuracy: 0.9000\n",
            "Epoch 48/50\n",
            "10/10 [==============================] - 17s 2s/step - loss: 0.2863 - accuracy: 0.8849 - val_loss: 0.5269 - val_accuracy: 0.9031\n",
            "Epoch 49/50\n",
            "10/10 [==============================] - 18s 2s/step - loss: 0.2752 - accuracy: 0.9156 - val_loss: 0.1330 - val_accuracy: 0.9187\n",
            "Epoch 50/50\n",
            "10/10 [==============================] - 16s 2s/step - loss: 0.1975 - accuracy: 0.9344 - val_loss: 0.1641 - val_accuracy: 0.9125\n",
            "\n",
            "\n",
            "Total training time: 14.517202977339426  minutes.\n"
          ],
          "name": "stdout"
        }
      ]
    },
    {
      "cell_type": "code",
      "metadata": {
        "id": "PUGglF6GyRIx",
        "colab_type": "code",
        "colab": {
          "base_uri": "https://localhost:8080/",
          "height": 295
        },
        "outputId": "e5665eed-1d9f-48f0-a731-c4a87f59a4dc"
      },
      "source": [
        "plt.plot(history.history['accuracy'])\n",
        "plt.plot(history.history['val_accuracy'])\n",
        "plt.title('model accuracy')\n",
        "plt.ylabel('accuracy')\n",
        "plt.xlabel('epoch')\n",
        "plt.legend(['train', 'validation'], loc='upper left')\n",
        "plt.savefig(\"/content/drive/My Drive/Data/Images/resnet101.png\")\n",
        "\n",
        "plt.show()"
      ],
      "execution_count": null,
      "outputs": [
        {
          "output_type": "display_data",
          "data": {
            "image/png": "[encoded data removed]",
            "text/plain": [
              "<Figure size 432x288 with 1 Axes>"
            ]
          },
          "metadata": {
            "tags": [],
            "needs_background": "light"
          }
        }
      ]
    },
    {
      "cell_type": "code",
      "metadata": {
        "id": "wO2P1kkyyTfX",
        "colab_type": "code",
        "colab": {
          "base_uri": "https://localhost:8080/",
          "height": 295
        },
        "outputId": "249980d3-e39e-4e5f-c363-689966af2f12"
      },
      "source": [
        "plt.plot(history.history['loss'])\n",
        "plt.plot(history.history['val_loss'])\n",
        "plt.title('model loss')\n",
        "plt.ylabel('loss')\n",
        "plt.xlabel('epoch')\n",
        "plt.legend(['train', 'validation'], loc='upper left')\n",
        "plt.savefig(\"/content/drive/My Drive/Data/Images/resnet101_loss.png\")\n",
        "plt.show()"
      ],
      "execution_count": null,
      "outputs": [
        {
          "output_type": "display_data",
          "data": {
            "image/png": "[encoded data removed]",
            "text/plain": [
              "<Figure size 432x288 with 1 Axes>"
            ]
          },
          "metadata": {
            "tags": [],
            "needs_background": "light"
          }
        }
      ]
    },
    {
      "cell_type": "code",
      "metadata": {
        "id": "hCaDBwNSNL0N",
        "colab_type": "code",
        "colab": {
          "base_uri": "https://localhost:8080/",
          "height": 34
        },
        "outputId": "3d91e9cb-7f31-4f56-ec6f-fbfd78c6535f"
      },
      "source": [
        "_,accuracy = model.evaluate_generator(test_generator,len(test_generator),verbose=1) "
      ],
      "execution_count": null,
      "outputs": [
        {
          "output_type": "stream",
          "text": [
            "1800/1800 [==============================] - 78s 43ms/step\n"
          ],
          "name": "stdout"
        }
      ]
    },
    {
      "cell_type": "code",
      "metadata": {
        "id": "YYa_U7NNnc7o",
        "colab_type": "code",
        "colab": {
          "base_uri": "https://localhost:8080/",
          "height": 34
        },
        "outputId": "e5af9110-4438-4eb8-fc80-268047eef1ce"
      },
      "source": [
        "accuracy"
      ],
      "execution_count": null,
      "outputs": [
        {
          "output_type": "execute_result",
          "data": {
            "text/plain": [
              "0.9072222113609314"
            ]
          },
          "metadata": {
            "tags": []
          },
          "execution_count": 157
        }
      ]
    },
    {
      "cell_type": "markdown",
      "metadata": {
        "id": "g7a7oDFyG6xt",
        "colab_type": "text"
      },
      "source": [
        "### Fine-tuned Resnet101\n"
      ]
    },
    {
      "cell_type": "code",
      "metadata": {
        "id": "gN_6PtDNKIZO",
        "colab_type": "code",
        "colab": {}
      },
      "source": [
        "resnet101=ResNet101(include_top=False,input_shape=(224,224,3), pooling = 'avg', weights='imagenet')"
      ],
      "execution_count": null,
      "outputs": []
    },
    {
      "cell_type": "markdown",
      "metadata": {
        "id": "wL91MD1Szb3e",
        "colab_type": "text"
      },
      "source": [
        "#### Number of layers"
      ]
    },
    {
      "cell_type": "code",
      "metadata": {
        "id": "Ac8lUdyIzbMv",
        "colab_type": "code",
        "colab": {
          "base_uri": "https://localhost:8080/",
          "height": 34
        },
        "outputId": "375abacd-971d-4ebc-e40c-03f8835fde0c"
      },
      "source": [
        "len(resnet101.layers)"
      ],
      "execution_count": null,
      "outputs": [
        {
          "output_type": "execute_result",
          "data": {
            "text/plain": [
              "346"
            ]
          },
          "metadata": {
            "tags": []
          },
          "execution_count": 160
        }
      ]
    },
    {
      "cell_type": "code",
      "metadata": {
        "id": "F5nlUXq1xkDE",
        "colab_type": "code",
        "colab": {}
      },
      "source": [
        "for layer in resnet101.layers[:-60]:\n",
        "\t    layer.trainable=False"
      ],
      "execution_count": null,
      "outputs": []
    },
    {
      "cell_type": "code",
      "metadata": {
        "id": "JqfSZK_9xvYW",
        "colab_type": "code",
        "colab": {
          "base_uri": "https://localhost:8080/",
          "height": 1000
        },
        "outputId": "c1629303-91d3-416b-c8e8-5fcada610a2d"
      },
      "source": [
        "i=0\n",
        "for layer in resnet101.layers:\n",
        "  print(i,layer,layer.trainable)\n",
        "  i+=1"
      ],
      "execution_count": null,
      "outputs": [
        {
          "output_type": "stream",
          "text": [
            "0 <keras.engine.input_layer.InputLayer object at 0x7efe1713cf98> False\n",
            "1 <keras.layers.convolutional.ZeroPadding2D object at 0x7efe1713ccc0> False\n",
            "2 <keras.layers.convolutional.Conv2D object at 0x7efe1713ce10> False\n",
            "3 <keras.layers.normalization.BatchNormalization object at 0x7efe20a2cc18> False\n",
            "4 <keras.layers.core.Activation object at 0x7efe1873e4a8> False\n",
            "5 <keras.layers.convolutional.ZeroPadding2D object at 0x7efe17147390> False\n",
            "6 <keras.layers.pooling.MaxPooling2D object at 0x7efe186df860> False\n",
            "7 <keras.layers.convolutional.Conv2D object at 0x7efe1867af98> False\n",
            "8 <keras.layers.normalization.BatchNormalization object at 0x7efe18666a58> False\n",
            "9 <keras.layers.core.Activation object at 0x7efe18666940> False\n",
            "10 <keras.layers.convolutional.Conv2D object at 0x7efe1867fba8> False\n",
            "11 <keras.layers.normalization.BatchNormalization object at 0x7efe186aae10> False\n",
            "12 <keras.layers.core.Activation object at 0x7efe2085f9e8> False\n",
            "13 <keras.layers.convolutional.Conv2D object at 0x7efe1a1553c8> False\n",
            "14 <keras.layers.convolutional.Conv2D object at 0x7efe20874e80> False\n",
            "15 <keras.layers.normalization.BatchNormalization object at 0x7efe18707e80> False\n",
            "16 <keras.layers.normalization.BatchNormalization object at 0x7efe2087c6d8> False\n",
            "17 <keras.layers.merge.Add object at 0x7efe2088cf28> False\n",
            "18 <keras.layers.core.Activation object at 0x7efe20827320> False\n",
            "19 <keras.layers.convolutional.Conv2D object at 0x7efe20827780> False\n",
            "20 <keras.layers.normalization.BatchNormalization object at 0x7efe2083a710> False\n",
            "21 <keras.layers.core.Activation object at 0x7efe2084f048> False\n",
            "22 <keras.layers.convolutional.Conv2D object at 0x7efe20855f28> False\n",
            "23 <keras.layers.normalization.BatchNormalization object at 0x7efe20859630> False\n",
            "24 <keras.layers.core.Activation object at 0x7efe207ede80> False\n",
            "25 <keras.layers.convolutional.Conv2D object at 0x7efe20808240> False\n",
            "26 <keras.layers.normalization.BatchNormalization object at 0x7efe20a3d908> False\n",
            "27 <keras.layers.merge.Add object at 0x7efe20a3d630> False\n",
            "28 <keras.layers.core.Activation object at 0x7efe20b23b38> False\n",
            "29 <keras.layers.convolutional.Conv2D object at 0x7efe20b23b00> False\n",
            "30 <keras.layers.normalization.BatchNormalization object at 0x7efe209b4f60> False\n",
            "31 <keras.layers.core.Activation object at 0x7efe30d1db70> False\n",
            "32 <keras.layers.convolutional.Conv2D object at 0x7efe30cf80f0> False\n",
            "33 <keras.layers.normalization.BatchNormalization object at 0x7efe20b38b38> False\n",
            "34 <keras.layers.core.Activation object at 0x7efe20b38400> False\n",
            "35 <keras.layers.convolutional.Conv2D object at 0x7efe186dfd68> False\n",
            "36 <keras.layers.normalization.BatchNormalization object at 0x7efe177d77f0> False\n",
            "37 <keras.layers.merge.Add object at 0x7efe177d7d30> False\n",
            "38 <keras.layers.core.Activation object at 0x7efe17147518> False\n",
            "39 <keras.layers.convolutional.Conv2D object at 0x7efe1724d1d0> False\n",
            "40 <keras.layers.normalization.BatchNormalization object at 0x7efe1d6e8f98> False\n",
            "41 <keras.layers.core.Activation object at 0x7efe1bd62898> False\n",
            "42 <keras.layers.convolutional.Conv2D object at 0x7efe1bad7ef0> False\n",
            "43 <keras.layers.normalization.BatchNormalization object at 0x7efe1b8403c8> False\n",
            "44 <keras.layers.core.Activation object at 0x7efe1b8b5160> False\n",
            "45 <keras.layers.convolutional.Conv2D object at 0x7efe171476d8> False\n",
            "46 <keras.layers.convolutional.Conv2D object at 0x7efe1b7437b8> False\n",
            "47 <keras.layers.normalization.BatchNormalization object at 0x7efe182db710> False\n",
            "48 <keras.layers.normalization.BatchNormalization object at 0x7efe1b1dfeb8> False\n",
            "49 <keras.layers.merge.Add object at 0x7efe1b271438> False\n",
            "50 <keras.layers.core.Activation object at 0x7efe1c042a58> False\n",
            "51 <keras.layers.convolutional.Conv2D object at 0x7efe1bfd8dd8> False\n",
            "52 <keras.layers.normalization.BatchNormalization object at 0x7efe1f9106a0> False\n",
            "53 <keras.layers.core.Activation object at 0x7efe2b400ac8> False\n",
            "54 <keras.layers.convolutional.Conv2D object at 0x7efe1f941d30> False\n",
            "55 <keras.layers.normalization.BatchNormalization object at 0x7efe2ffd53c8> False\n",
            "56 <keras.layers.core.Activation object at 0x7efe2d11abe0> False\n",
            "57 <keras.layers.convolutional.Conv2D object at 0x7efe307dfbe0> False\n",
            "58 <keras.layers.normalization.BatchNormalization object at 0x7efe307e7438> False\n",
            "59 <keras.layers.merge.Add object at 0x7efe307e7470> False\n",
            "60 <keras.layers.core.Activation object at 0x7efe209a2cc0> False\n",
            "61 <keras.layers.convolutional.Conv2D object at 0x7efe209a29b0> False\n",
            "62 <keras.layers.normalization.BatchNormalization object at 0x7efe1f881a90> False\n",
            "63 <keras.layers.core.Activation object at 0x7efe22678208> False\n",
            "64 <keras.layers.convolutional.Conv2D object at 0x7efe2a0e1710> False\n",
            "65 <keras.layers.normalization.BatchNormalization object at 0x7efe2418ec88> False\n",
            "66 <keras.layers.core.Activation object at 0x7efe24189c18> False\n",
            "67 <keras.layers.convolutional.Conv2D object at 0x7efe2ff3e048> False\n",
            "68 <keras.layers.normalization.BatchNormalization object at 0x7efe1fe18358> False\n",
            "69 <keras.layers.merge.Add object at 0x7efe1fe18ef0> False\n",
            "70 <keras.layers.core.Activation object at 0x7efe227f7f60> False\n",
            "71 <keras.layers.convolutional.Conv2D object at 0x7efe227f7cf8> False\n",
            "72 <keras.layers.normalization.BatchNormalization object at 0x7efe227e4a20> False\n",
            "73 <keras.layers.core.Activation object at 0x7efe234cff28> False\n",
            "74 <keras.layers.convolutional.Conv2D object at 0x7efe234cc8d0> False\n",
            "75 <keras.layers.normalization.BatchNormalization object at 0x7efe234d86d8> False\n",
            "76 <keras.layers.core.Activation object at 0x7efe1bd8ccf8> False\n",
            "77 <keras.layers.convolutional.Conv2D object at 0x7efe23517e48> False\n",
            "78 <keras.layers.normalization.BatchNormalization object at 0x7efe234ec748> False\n",
            "79 <keras.layers.merge.Add object at 0x7efe234ecd30> False\n",
            "80 <keras.layers.core.Activation object at 0x7efe240be6a0> False\n",
            "81 <keras.layers.convolutional.Conv2D object at 0x7efe1ad6f1d0> False\n",
            "82 <keras.layers.normalization.BatchNormalization object at 0x7efe35e80b38> False\n",
            "83 <keras.layers.core.Activation object at 0x7efe35e80a20> False\n",
            "84 <keras.layers.convolutional.Conv2D object at 0x7efe1ad60be0> False\n",
            "85 <keras.layers.normalization.BatchNormalization object at 0x7efe35eb26d8> False\n",
            "86 <keras.layers.core.Activation object at 0x7efe1b2f7cf8> False\n",
            "87 <keras.layers.convolutional.Conv2D object at 0x7efe240beb00> False\n",
            "88 <keras.layers.convolutional.Conv2D object at 0x7efe1b2def28> False\n",
            "89 <keras.layers.normalization.BatchNormalization object at 0x7efe1ad753c8> False\n",
            "90 <keras.layers.normalization.BatchNormalization object at 0x7efe35ff3940> False\n",
            "91 <keras.layers.merge.Add object at 0x7efe35ff3358> False\n",
            "92 <keras.layers.core.Activation object at 0x7efe35fd56a0> False\n",
            "93 <keras.layers.convolutional.Conv2D object at 0x7efe35fd5b00> False\n",
            "94 <keras.layers.normalization.BatchNormalization object at 0x7efe1bdfd3c8> False\n",
            "95 <keras.layers.core.Activation object at 0x7efe1be08e80> False\n",
            "96 <keras.layers.convolutional.Conv2D object at 0x7efe1f891278> False\n",
            "97 <keras.layers.normalization.BatchNormalization object at 0x7efe1f880ac8> False\n",
            "98 <keras.layers.core.Activation object at 0x7efe1f8804e0> False\n",
            "99 <keras.layers.convolutional.Conv2D object at 0x7efe1bedb828> False\n",
            "100 <keras.layers.normalization.BatchNormalization object at 0x7efe1bedf2e8> False\n",
            "101 <keras.layers.merge.Add object at 0x7efe1bef6e80> False\n",
            "102 <keras.layers.core.Activation object at 0x7efe1bedb940> False\n",
            "103 <keras.layers.convolutional.Conv2D object at 0x7efe2359f4a8> False\n",
            "104 <keras.layers.normalization.BatchNormalization object at 0x7efe235b6d30> False\n",
            "105 <keras.layers.core.Activation object at 0x7efe235d94e0> False\n",
            "106 <keras.layers.convolutional.Conv2D object at 0x7efe235a7cc0> False\n",
            "107 <keras.layers.normalization.BatchNormalization object at 0x7efe1be22470> False\n",
            "108 <keras.layers.core.Activation object at 0x7efe1be2bd68> False\n",
            "109 <keras.layers.convolutional.Conv2D object at 0x7efe1be16278> False\n",
            "110 <keras.layers.normalization.BatchNormalization object at 0x7efe1be6dc50> False\n",
            "111 <keras.layers.merge.Add object at 0x7efe1be6d668> False\n",
            "112 <keras.layers.core.Activation object at 0x7efe1be95cc0> False\n",
            "113 <keras.layers.convolutional.Conv2D object at 0x7efe1be95e10> False\n",
            "114 <keras.layers.normalization.BatchNormalization object at 0x7efe23fe26d8> False\n",
            "115 <keras.layers.core.Activation object at 0x7efe23fc3160> False\n",
            "116 <keras.layers.convolutional.Conv2D object at 0x7efe23fcb588> False\n",
            "117 <keras.layers.normalization.BatchNormalization object at 0x7efe1fe147f0> False\n",
            "118 <keras.layers.core.Activation object at 0x7efe1fe0aef0> False\n",
            "119 <keras.layers.convolutional.Conv2D object at 0x7efe1fdf3ef0> False\n",
            "120 <keras.layers.normalization.BatchNormalization object at 0x7efe1fded5f8> False\n",
            "121 <keras.layers.merge.Add object at 0x7efe1fe03ef0> False\n",
            "122 <keras.layers.core.Activation object at 0x7efe24044cf8> False\n",
            "123 <keras.layers.convolutional.Conv2D object at 0x7efe24044898> False\n",
            "124 <keras.layers.normalization.BatchNormalization object at 0x7efe24060c18> False\n",
            "125 <keras.layers.core.Activation object at 0x7efe240e9f28> False\n",
            "126 <keras.layers.convolutional.Conv2D object at 0x7efe240eff60> False\n",
            "127 <keras.layers.normalization.BatchNormalization object at 0x7efe24117780> False\n",
            "128 <keras.layers.core.Activation object at 0x7efe24117198> False\n",
            "129 <keras.layers.convolutional.Conv2D object at 0x7efe228534e0> False\n",
            "130 <keras.layers.normalization.BatchNormalization object at 0x7efe2283dda0> False\n",
            "131 <keras.layers.merge.Add object at 0x7efe22832a20> False\n",
            "132 <keras.layers.core.Activation object at 0x7efe22e5bf28> False\n",
            "133 <keras.layers.convolutional.Conv2D object at 0x7efe22e5bcc0> False\n",
            "134 <keras.layers.normalization.BatchNormalization object at 0x7efe22e429e8> False\n",
            "135 <keras.layers.core.Activation object at 0x7efe22e29ef0> False\n",
            "136 <keras.layers.convolutional.Conv2D object at 0x7efe22e25898> False\n",
            "137 <keras.layers.normalization.BatchNormalization object at 0x7efe22e3f6a0> False\n",
            "138 <keras.layers.core.Activation object at 0x7efe22d4fcc0> False\n",
            "139 <keras.layers.convolutional.Conv2D object at 0x7efe22d2ce10> False\n",
            "140 <keras.layers.normalization.BatchNormalization object at 0x7efe1add4908> False\n",
            "141 <keras.layers.merge.Add object at 0x7efe1add4320> False\n",
            "142 <keras.layers.core.Activation object at 0x7efe1adba668> False\n",
            "143 <keras.layers.convolutional.Conv2D object at 0x7efe1adbaac8> False\n",
            "144 <keras.layers.normalization.BatchNormalization object at 0x7efe1ad99390> False\n",
            "145 <keras.layers.core.Activation object at 0x7efe22d15048> False\n",
            "146 <keras.layers.convolutional.Conv2D object at 0x7efe22d05240> False\n",
            "147 <keras.layers.normalization.BatchNormalization object at 0x7efe22cf3a90> False\n",
            "148 <keras.layers.core.Activation object at 0x7efe22cf34a8> False\n",
            "149 <keras.layers.convolutional.Conv2D object at 0x7efe1f8d9390> False\n",
            "150 <keras.layers.normalization.BatchNormalization object at 0x7efe1f8cdd68> False\n",
            "151 <keras.layers.merge.Add object at 0x7efe1f8b9e48> False\n",
            "152 <keras.layers.core.Activation object at 0x7efe1f89bf98> False\n",
            "153 <keras.layers.convolutional.Conv2D object at 0x7efe1f89bfd0> False\n",
            "154 <keras.layers.normalization.BatchNormalization object at 0x7efe22e10cf8> False\n",
            "155 <keras.layers.core.Activation object at 0x7efe22dea978> False\n",
            "156 <keras.layers.convolutional.Conv2D object at 0x7efe22dedc88> False\n",
            "157 <keras.layers.normalization.BatchNormalization object at 0x7efe22de7438> False\n",
            "158 <keras.layers.core.Activation object at 0x7efe1fdc0d30> False\n",
            "159 <keras.layers.convolutional.Conv2D object at 0x7efe1fdb6e48> False\n",
            "160 <keras.layers.normalization.BatchNormalization object at 0x7efe1fd9ec18> False\n",
            "161 <keras.layers.merge.Add object at 0x7efe1fd9e630> False\n",
            "162 <keras.layers.core.Activation object at 0x7efe1bdc5c88> False\n",
            "163 <keras.layers.convolutional.Conv2D object at 0x7efe1bdc5dd8> False\n",
            "164 <keras.layers.normalization.BatchNormalization object at 0x7efe1bdab6a0> False\n",
            "165 <keras.layers.core.Activation object at 0x7efe22e98ef0> False\n",
            "166 <keras.layers.convolutional.Conv2D object at 0x7efe22e8d550> False\n",
            "167 <keras.layers.normalization.BatchNormalization object at 0x7efe22e7c7b8> False\n",
            "168 <keras.layers.core.Activation object at 0x7efe22e74eb8> False\n",
            "169 <keras.layers.convolutional.Conv2D object at 0x7efe22e6deb8> False\n",
            "170 <keras.layers.normalization.BatchNormalization object at 0x7efe1fe565c0> False\n",
            "171 <keras.layers.merge.Add object at 0x7efe1fe41eb8> False\n",
            "172 <keras.layers.core.Activation object at 0x7efe1fe29320> False\n",
            "173 <keras.layers.convolutional.Conv2D object at 0x7efe1fe29780> False\n",
            "174 <keras.layers.normalization.BatchNormalization object at 0x7efe20050be0> False\n",
            "175 <keras.layers.core.Activation object at 0x7efe200342e8> False\n",
            "176 <keras.layers.convolutional.Conv2D object at 0x7efe2002ef28> False\n",
            "177 <keras.layers.normalization.BatchNormalization object at 0x7efe22059748> False\n",
            "178 <keras.layers.core.Activation object at 0x7efe22059160> False\n",
            "179 <keras.layers.convolutional.Conv2D object at 0x7efe220334a8> False\n",
            "180 <keras.layers.normalization.BatchNormalization object at 0x7efe22023320> False\n",
            "181 <keras.layers.merge.Add object at 0x7efe220569e8> False\n",
            "182 <keras.layers.core.Activation object at 0x7efe1ff46ef0> False\n",
            "183 <keras.layers.convolutional.Conv2D object at 0x7efe1ff46c88> False\n",
            "184 <keras.layers.normalization.BatchNormalization object at 0x7efe1ff2c9b0> False\n",
            "185 <keras.layers.core.Activation object at 0x7efe2339beb8> False\n",
            "186 <keras.layers.convolutional.Conv2D object at 0x7efe23395860> False\n",
            "187 <keras.layers.normalization.BatchNormalization object at 0x7efe23387668> False\n",
            "188 <keras.layers.core.Activation object at 0x7efe23377c88> False\n",
            "189 <keras.layers.convolutional.Conv2D object at 0x7efe22150dd8> False\n",
            "190 <keras.layers.normalization.BatchNormalization object at 0x7efe221420b8> False\n",
            "191 <keras.layers.merge.Add object at 0x7efe221429e8> False\n",
            "192 <keras.layers.core.Activation object at 0x7efe2211d630> False\n",
            "193 <keras.layers.convolutional.Conv2D object at 0x7efe2211da90> False\n",
            "194 <keras.layers.normalization.BatchNormalization object at 0x7efe1fd89358> False\n",
            "195 <keras.layers.core.Activation object at 0x7efe1fd80f98> False\n",
            "196 <keras.layers.convolutional.Conv2D object at 0x7efe1fd65e10> False\n",
            "197 <keras.layers.normalization.BatchNormalization object at 0x7efe1af4fa58> False\n",
            "198 <keras.layers.core.Activation object at 0x7efe1af4f470> False\n",
            "199 <keras.layers.convolutional.Conv2D object at 0x7efe1af337b8> False\n",
            "200 <keras.layers.normalization.BatchNormalization object at 0x7efe1af2be48> False\n",
            "201 <keras.layers.merge.Add object at 0x7efe1af2ae10> False\n",
            "202 <keras.layers.core.Activation object at 0x7efe1b4bc080> False\n",
            "203 <keras.layers.convolutional.Conv2D object at 0x7efe1b4bc048> False\n",
            "204 <keras.layers.normalization.BatchNormalization object at 0x7efe1b49acc0> False\n",
            "205 <keras.layers.core.Activation object at 0x7efe1b60e940> False\n",
            "206 <keras.layers.convolutional.Conv2D object at 0x7efe1b610c50> False\n",
            "207 <keras.layers.normalization.BatchNormalization object at 0x7efe1b602400> False\n",
            "208 <keras.layers.core.Activation object at 0x7efe1b5f1cf8> False\n",
            "209 <keras.layers.convolutional.Conv2D object at 0x7efe1b530208> False\n",
            "210 <keras.layers.normalization.BatchNormalization object at 0x7efe1b53dbe0> False\n",
            "211 <keras.layers.merge.Add object at 0x7efe1b53d5f8> False\n",
            "212 <keras.layers.core.Activation object at 0x7efe1b517c50> False\n",
            "213 <keras.layers.convolutional.Conv2D object at 0x7efe1b517da0> False\n",
            "214 <keras.layers.normalization.BatchNormalization object at 0x7efe2290e668> False\n",
            "215 <keras.layers.core.Activation object at 0x7efe228f3eb8> False\n",
            "216 <keras.layers.convolutional.Conv2D object at 0x7efe228ea518> False\n",
            "217 <keras.layers.normalization.BatchNormalization object at 0x7efe22900dd8> False\n",
            "218 <keras.layers.core.Activation object at 0x7efe229561d0> False\n",
            "219 <keras.layers.convolutional.Conv2D object at 0x7efe2293de10> False\n",
            "220 <keras.layers.normalization.BatchNormalization object at 0x7efe22933588> False\n",
            "221 <keras.layers.merge.Add object at 0x7efe2291de80> False\n",
            "222 <keras.layers.core.Activation object at 0x7efe2298b2e8> False\n",
            "223 <keras.layers.convolutional.Conv2D object at 0x7efe2298b748> False\n",
            "224 <keras.layers.normalization.BatchNormalization object at 0x7efe22970ba8> False\n",
            "225 <keras.layers.core.Activation object at 0x7efe22b142b0> False\n",
            "226 <keras.layers.convolutional.Conv2D object at 0x7efe22b0def0> False\n",
            "227 <keras.layers.normalization.BatchNormalization object at 0x7efe22af8710> False\n",
            "228 <keras.layers.core.Activation object at 0x7efe22af8128> False\n",
            "229 <keras.layers.convolutional.Conv2D object at 0x7efe22c56470> False\n",
            "230 <keras.layers.normalization.BatchNormalization object at 0x7efe22c40908> False\n",
            "231 <keras.layers.merge.Add object at 0x7efe22c419b0> False\n",
            "232 <keras.layers.core.Activation object at 0x7efe22c1eeb8> False\n",
            "233 <keras.layers.convolutional.Conv2D object at 0x7efe22c1ec50> False\n",
            "234 <keras.layers.normalization.BatchNormalization object at 0x7efe22f8f978> False\n",
            "235 <keras.layers.core.Activation object at 0x7efe22f6fe80> False\n",
            "236 <keras.layers.convolutional.Conv2D object at 0x7efe22f6d5f8> False\n",
            "237 <keras.layers.normalization.BatchNormalization object at 0x7efe22f629e8> False\n",
            "238 <keras.layers.core.Activation object at 0x7efe23111c50> False\n",
            "239 <keras.layers.convolutional.Conv2D object at 0x7efe23101da0> False\n",
            "240 <keras.layers.normalization.BatchNormalization object at 0x7efe230de898> False\n",
            "241 <keras.layers.merge.Add object at 0x7efe230de2b0> False\n",
            "242 <keras.layers.core.Activation object at 0x7efe232835f8> False\n",
            "243 <keras.layers.convolutional.Conv2D object at 0x7efe23283a58> False\n",
            "244 <keras.layers.normalization.BatchNormalization object at 0x7efe23268320> False\n",
            "245 <keras.layers.core.Activation object at 0x7efe2325ef60> False\n",
            "246 <keras.layers.convolutional.Conv2D object at 0x7efe1f9cc1d0> False\n",
            "247 <keras.layers.normalization.BatchNormalization object at 0x7efe1f9b7a20> False\n",
            "248 <keras.layers.core.Activation object at 0x7efe1f9b7438> False\n",
            "249 <keras.layers.convolutional.Conv2D object at 0x7efe1fa414a8> False\n",
            "250 <keras.layers.normalization.BatchNormalization object at 0x7efe1fa53240> False\n",
            "251 <keras.layers.merge.Add object at 0x7efe1fa3ddd8> False\n",
            "252 <keras.layers.core.Activation object at 0x7efe1fa1fef0> False\n",
            "253 <keras.layers.convolutional.Conv2D object at 0x7efe1fa1fe10> False\n",
            "254 <keras.layers.normalization.BatchNormalization object at 0x7efe1fb0ec88> False\n",
            "255 <keras.layers.core.Activation object at 0x7efe1faf0208> False\n",
            "256 <keras.layers.convolutional.Conv2D object at 0x7efe1fae6b38> False\n",
            "257 <keras.layers.normalization.BatchNormalization object at 0x7efe1fae23c8> False\n",
            "258 <keras.layers.core.Activation object at 0x7efe1fc92f60> False\n",
            "259 <keras.layers.convolutional.Conv2D object at 0x7efe1fc63d30> False\n",
            "260 <keras.layers.normalization.BatchNormalization object at 0x7efe1fc7bba8> False\n",
            "261 <keras.layers.merge.Add object at 0x7efe1fc7b5c0> False\n",
            "262 <keras.layers.core.Activation object at 0x7efe1fefe908> False\n",
            "263 <keras.layers.convolutional.Conv2D object at 0x7efe1fefed68> False\n",
            "264 <keras.layers.normalization.BatchNormalization object at 0x7efe1fee8630> False\n",
            "265 <keras.layers.core.Activation object at 0x7efe22257e80> False\n",
            "266 <keras.layers.convolutional.Conv2D object at 0x7efe222494e0> False\n",
            "267 <keras.layers.normalization.BatchNormalization object at 0x7efe2223cda0> False\n",
            "268 <keras.layers.core.Activation object at 0x7efe22231e48> False\n",
            "269 <keras.layers.convolutional.Conv2D object at 0x7efe223c2da0> False\n",
            "270 <keras.layers.normalization.BatchNormalization object at 0x7efe223d6550> False\n",
            "271 <keras.layers.merge.Add object at 0x7efe223bae48> False\n",
            "272 <keras.layers.core.Activation object at 0x7efe223a72b0> False\n",
            "273 <keras.layers.convolutional.Conv2D object at 0x7efe223a7710> False\n",
            "274 <keras.layers.normalization.BatchNormalization object at 0x7efe22550b70> False\n",
            "275 <keras.layers.core.Activation object at 0x7efe22535278> False\n",
            "276 <keras.layers.convolutional.Conv2D object at 0x7efe2252feb8> False\n",
            "277 <keras.layers.normalization.BatchNormalization object at 0x7efe2210e6d8> False\n",
            "278 <keras.layers.core.Activation object at 0x7efe2210e208> False\n",
            "279 <keras.layers.convolutional.Conv2D object at 0x7efe220dd7b8> False\n",
            "280 <keras.layers.normalization.BatchNormalization object at 0x7efe220e08d0> False\n",
            "281 <keras.layers.merge.Add object at 0x7efe220f5978> False\n",
            "282 <keras.layers.core.Activation object at 0x7efe220cbe80> False\n",
            "283 <keras.layers.convolutional.Conv2D object at 0x7efe220cbc18> False\n",
            "284 <keras.layers.normalization.BatchNormalization object at 0x7efe220a32e8> False\n",
            "285 <keras.layers.core.Activation object at 0x7efe22099f60> False\n",
            "286 <keras.layers.convolutional.Conv2D object at 0x7efe220957f0> True\n",
            "287 <keras.layers.normalization.BatchNormalization object at 0x7efe22079f28> True\n",
            "288 <keras.layers.core.Activation object at 0x7efe2206ac18> True\n",
            "289 <keras.layers.convolutional.Conv2D object at 0x7efe1fd34d68> True\n",
            "290 <keras.layers.normalization.BatchNormalization object at 0x7efe1fd43860> True\n",
            "291 <keras.layers.merge.Add object at 0x7efe1fd43278> True\n",
            "292 <keras.layers.core.Activation object at 0x7efe1fd205c0> True\n",
            "293 <keras.layers.convolutional.Conv2D object at 0x7efe1fd20a20> True\n",
            "294 <keras.layers.normalization.BatchNormalization object at 0x7efe1b7fe2e8> True\n",
            "295 <keras.layers.core.Activation object at 0x7efe1b7fff28> True\n",
            "296 <keras.layers.convolutional.Conv2D object at 0x7efe1b7dd198> True\n",
            "297 <keras.layers.normalization.BatchNormalization object at 0x7efe1b3959e8> True\n",
            "298 <keras.layers.core.Activation object at 0x7efe1b395400> True\n",
            "299 <keras.layers.convolutional.Conv2D object at 0x7efe1b371748> True\n",
            "300 <keras.layers.normalization.BatchNormalization object at 0x7efe1b374320> True\n",
            "301 <keras.layers.merge.Add object at 0x7efe1b35b048> True\n",
            "302 <keras.layers.core.Activation object at 0x7efe1b3c8f60> True\n",
            "303 <keras.layers.convolutional.Conv2D object at 0x7efe1b3c8dd8> True\n",
            "304 <keras.layers.normalization.BatchNormalization object at 0x7efe1b3ac1d0> True\n",
            "305 <keras.layers.core.Activation object at 0x7efe1ae018d0> True\n",
            "306 <keras.layers.convolutional.Conv2D object at 0x7efe1ae11b00> True\n",
            "307 <keras.layers.normalization.BatchNormalization object at 0x7efe1ae0a390> True\n",
            "308 <keras.layers.core.Activation object at 0x7efe1adf7f28> True\n",
            "309 <keras.layers.convolutional.Conv2D object at 0x7efe1ae4e208> True\n",
            "310 <keras.layers.normalization.BatchNormalization object at 0x7efe1ae42b70> True\n",
            "311 <keras.layers.merge.Add object at 0x7efe1ae42588> True\n",
            "312 <keras.layers.core.Activation object at 0x7efe1ae1e8d0> True\n",
            "313 <keras.layers.convolutional.Conv2D object at 0x7efe1aeabe48> True\n",
            "314 <keras.layers.normalization.BatchNormalization object at 0x7efe1aeb3fd0> True\n",
            "315 <keras.layers.core.Activation object at 0x7efe1aeb3c18> True\n",
            "316 <keras.layers.convolutional.Conv2D object at 0x7efe1aea6e10> True\n",
            "317 <keras.layers.normalization.BatchNormalization object at 0x7efe1aef4390> True\n",
            "318 <keras.layers.core.Activation object at 0x7efe1aed8f28> True\n",
            "319 <keras.layers.convolutional.Conv2D object at 0x7efe1ae1ed30> True\n",
            "320 <keras.layers.convolutional.Conv2D object at 0x7efe1b5bb208> True\n",
            "321 <keras.layers.normalization.BatchNormalization object at 0x7efe1aecf5f8> True\n",
            "322 <keras.layers.normalization.BatchNormalization object at 0x7efe1b5acb70> True\n",
            "323 <keras.layers.merge.Add object at 0x7efe1b5ac588> True\n",
            "324 <keras.layers.core.Activation object at 0x7efe1b4158d0> True\n",
            "325 <keras.layers.convolutional.Conv2D object at 0x7efe1b415d30> True\n",
            "326 <keras.layers.normalization.BatchNormalization object at 0x7efe1b3fbb38> True\n",
            "327 <keras.layers.core.Activation object at 0x7efe1b3e3e48> True\n",
            "328 <keras.layers.convolutional.Conv2D object at 0x7efe1b3df4a8> True\n",
            "329 <keras.layers.normalization.BatchNormalization object at 0x7efe1b648d68> True\n",
            "330 <keras.layers.core.Activation object at 0x7efe1b63b0f0> True\n",
            "331 <keras.layers.convolutional.Conv2D object at 0x7efe1b623d68> True\n",
            "332 <keras.layers.normalization.BatchNormalization object at 0x7efe1b61c518> True\n",
            "333 <keras.layers.merge.Add object at 0x7efe1b68de10> True\n",
            "334 <keras.layers.core.Activation object at 0x7efe1b670278> True\n",
            "335 <keras.layers.convolutional.Conv2D object at 0x7efe1b6706d8> True\n",
            "336 <keras.layers.normalization.BatchNormalization object at 0x7efe1b65b710> True\n",
            "337 <keras.layers.core.Activation object at 0x7efe1b846240> True\n",
            "338 <keras.layers.convolutional.Conv2D object at 0x7efe1b843198> True\n",
            "339 <keras.layers.normalization.BatchNormalization object at 0x7efe1b8236a0> True\n",
            "340 <keras.layers.core.Activation object at 0x7efe1b8231d0> True\n",
            "341 <keras.layers.convolutional.Conv2D object at 0x7efe1b8ca400> True\n",
            "342 <keras.layers.normalization.BatchNormalization object at 0x7efe1b8b9898> True\n",
            "343 <keras.layers.merge.Add object at 0x7efe1b8a4b00> True\n",
            "344 <keras.layers.core.Activation object at 0x7efe1b8a9e48> True\n",
            "345 <keras.layers.pooling.GlobalAveragePooling2D object at 0x7efe1b8a9be0> True\n"
          ],
          "name": "stdout"
        }
      ]
    },
    {
      "cell_type": "code",
      "metadata": {
        "id": "UK9gsX92zHL6",
        "colab_type": "code",
        "colab": {}
      },
      "source": [
        "model=Sequential()\n",
        "model.add(resnet101)\n",
        "\n",
        "#ANN\n",
        "model.add(Dense(512))\n",
        "model.add(LeakyReLU(0.25))\n",
        "model.add(Dropout(0.5))\n",
        "\n",
        "model.add(Dense(15, activation='softmax'))\n",
        "\n",
        "model.compile(optimizer=SGD(lr=0.001, decay=1e-6, momentum=0.9, nesterov=True), loss='categorical_crossentropy', metrics=['accuracy'])"
      ],
      "execution_count": null,
      "outputs": []
    },
    {
      "cell_type": "code",
      "metadata": {
        "id": "QIGGNJxC0Vm0",
        "colab_type": "code",
        "colab": {
          "base_uri": "https://localhost:8080/",
          "height": 330
        },
        "outputId": "1e1f3f55-0491-41fe-c22a-7362f4a4040d"
      },
      "source": [
        "model.summary()"
      ],
      "execution_count": null,
      "outputs": [
        {
          "output_type": "stream",
          "text": [
            "Model: \"sequential_15\"\n",
            "_________________________________________________________________\n",
            "Layer (type)                 Output Shape              Param #   \n",
            "=================================================================\n",
            "resnet101 (Model)            (None, 2048)              42658176  \n",
            "_________________________________________________________________\n",
            "dense_29 (Dense)             (None, 512)               1049088   \n",
            "_________________________________________________________________\n",
            "leaky_re_lu_15 (LeakyReLU)   (None, 512)               0         \n",
            "_________________________________________________________________\n",
            "dropout_15 (Dropout)         (None, 512)               0         \n",
            "_________________________________________________________________\n",
            "dense_30 (Dense)             (None, 15)                7695      \n",
            "=================================================================\n",
            "Total params: 43,714,959\n",
            "Trainable params: 19,126,031\n",
            "Non-trainable params: 24,588,928\n",
            "_________________________________________________________________\n"
          ],
          "name": "stdout"
        }
      ]
    },
    {
      "cell_type": "code",
      "metadata": {
        "id": "QhQOl7Y80a_Z",
        "colab_type": "code",
        "colab": {
          "base_uri": "https://localhost:8080/",
          "height": 1000
        },
        "outputId": "0a198ee2-4e61-4a72-e179-a2aaf9b114bd"
      },
      "source": [
        "start=time.time()\n",
        "\n",
        "history=model.fit_generator(\n",
        "    train_generator,\n",
        "    steps_per_epoch = 10,\n",
        "    validation_data = validation_generator, \n",
        "    validation_steps = 10,\n",
        "    epochs =50)\n",
        "\n",
        "end=time.time()\n",
        "print(\"\\n\")\n",
        "print(\"Total training time:\", (end-start)/60,\" minutes.\")"
      ],
      "execution_count": null,
      "outputs": [
        {
          "output_type": "stream",
          "text": [
            "Epoch 1/50\n",
            "10/10 [==============================] - 30s 3s/step - loss: 3.1773 - accuracy: 0.0938 - val_loss: 2.3806 - val_accuracy: 0.2500\n",
            "Epoch 2/50\n",
            "10/10 [==============================] - 15s 1s/step - loss: 2.5070 - accuracy: 0.2434 - val_loss: 2.1157 - val_accuracy: 0.4594\n",
            "Epoch 3/50\n",
            "10/10 [==============================] - 19s 2s/step - loss: 1.8481 - accuracy: 0.4156 - val_loss: 0.8230 - val_accuracy: 0.6313\n",
            "Epoch 4/50\n",
            "10/10 [==============================] - 18s 2s/step - loss: 1.3711 - accuracy: 0.6219 - val_loss: 0.7951 - val_accuracy: 0.7906\n",
            "Epoch 5/50\n",
            "10/10 [==============================] - 20s 2s/step - loss: 1.0730 - accuracy: 0.6781 - val_loss: 0.5979 - val_accuracy: 0.7969\n",
            "Epoch 6/50\n",
            "10/10 [==============================] - 18s 2s/step - loss: 0.9903 - accuracy: 0.6875 - val_loss: 0.3925 - val_accuracy: 0.8209\n",
            "Epoch 7/50\n",
            "10/10 [==============================] - 17s 2s/step - loss: 0.9100 - accuracy: 0.7250 - val_loss: 0.4752 - val_accuracy: 0.8313\n",
            "Epoch 8/50\n",
            "10/10 [==============================] - 18s 2s/step - loss: 0.6882 - accuracy: 0.7937 - val_loss: 0.4650 - val_accuracy: 0.8719\n",
            "Epoch 9/50\n",
            "10/10 [==============================] - 19s 2s/step - loss: 0.6468 - accuracy: 0.8094 - val_loss: 0.5309 - val_accuracy: 0.8781\n",
            "Epoch 10/50\n",
            "10/10 [==============================] - 16s 2s/step - loss: 0.5378 - accuracy: 0.8281 - val_loss: 0.4467 - val_accuracy: 0.8875\n",
            "Epoch 11/50\n",
            "10/10 [==============================] - 18s 2s/step - loss: 0.5492 - accuracy: 0.8250 - val_loss: 0.3997 - val_accuracy: 0.8625\n",
            "Epoch 12/50\n",
            "10/10 [==============================] - 19s 2s/step - loss: 0.4248 - accuracy: 0.8750 - val_loss: 0.3093 - val_accuracy: 0.9189\n",
            "Epoch 13/50\n",
            "10/10 [==============================] - 15s 1s/step - loss: 0.3877 - accuracy: 0.8750 - val_loss: 0.2369 - val_accuracy: 0.8750\n",
            "Epoch 14/50\n",
            "10/10 [==============================] - 19s 2s/step - loss: 0.3988 - accuracy: 0.8781 - val_loss: 0.1500 - val_accuracy: 0.9031\n",
            "Epoch 15/50\n",
            "10/10 [==============================] - 18s 2s/step - loss: 0.3993 - accuracy: 0.8781 - val_loss: 0.1802 - val_accuracy: 0.9281\n",
            "Epoch 16/50\n",
            "10/10 [==============================] - 18s 2s/step - loss: 0.4669 - accuracy: 0.8625 - val_loss: 0.2637 - val_accuracy: 0.8969\n",
            "Epoch 17/50\n",
            "10/10 [==============================] - 17s 2s/step - loss: 0.4348 - accuracy: 0.8562 - val_loss: 0.1321 - val_accuracy: 0.8969\n",
            "Epoch 18/50\n",
            "10/10 [==============================] - 20s 2s/step - loss: 0.3127 - accuracy: 0.9094 - val_loss: 0.3757 - val_accuracy: 0.9020\n",
            "Epoch 19/50\n",
            "10/10 [==============================] - 14s 1s/step - loss: 0.3763 - accuracy: 0.8684 - val_loss: 0.3554 - val_accuracy: 0.9094\n",
            "Epoch 20/50\n",
            "10/10 [==============================] - 17s 2s/step - loss: 0.3305 - accuracy: 0.9031 - val_loss: 0.3153 - val_accuracy: 0.8969\n",
            "Epoch 21/50\n",
            "10/10 [==============================] - 19s 2s/step - loss: 0.3974 - accuracy: 0.8906 - val_loss: 0.3325 - val_accuracy: 0.9062\n",
            "Epoch 22/50\n",
            "10/10 [==============================] - 18s 2s/step - loss: 0.3397 - accuracy: 0.8875 - val_loss: 0.1783 - val_accuracy: 0.9062\n",
            "Epoch 23/50\n",
            "10/10 [==============================] - 19s 2s/step - loss: 0.3253 - accuracy: 0.8969 - val_loss: 0.3332 - val_accuracy: 0.8851\n",
            "Epoch 24/50\n",
            "10/10 [==============================] - 19s 2s/step - loss: 0.3381 - accuracy: 0.8906 - val_loss: 0.2574 - val_accuracy: 0.8969\n",
            "Epoch 25/50\n",
            "10/10 [==============================] - 18s 2s/step - loss: 0.2503 - accuracy: 0.9156 - val_loss: 0.1446 - val_accuracy: 0.9031\n",
            "Epoch 26/50\n",
            "10/10 [==============================] - 18s 2s/step - loss: 0.2402 - accuracy: 0.9438 - val_loss: 0.5774 - val_accuracy: 0.9062\n",
            "Epoch 27/50\n",
            "10/10 [==============================] - 17s 2s/step - loss: 0.3578 - accuracy: 0.8687 - val_loss: 0.0967 - val_accuracy: 0.9187\n",
            "Epoch 28/50\n",
            "10/10 [==============================] - 18s 2s/step - loss: 0.2776 - accuracy: 0.9125 - val_loss: 0.1801 - val_accuracy: 0.9031\n",
            "Epoch 29/50\n",
            "10/10 [==============================] - 19s 2s/step - loss: 0.2820 - accuracy: 0.9112 - val_loss: 0.2720 - val_accuracy: 0.8986\n",
            "Epoch 30/50\n",
            "10/10 [==============================] - 15s 1s/step - loss: 0.2915 - accuracy: 0.8813 - val_loss: 0.3071 - val_accuracy: 0.9000\n",
            "Epoch 31/50\n",
            "10/10 [==============================] - 20s 2s/step - loss: 0.2417 - accuracy: 0.9094 - val_loss: 0.3868 - val_accuracy: 0.9375\n",
            "Epoch 32/50\n",
            "10/10 [==============================] - 16s 2s/step - loss: 0.2729 - accuracy: 0.9125 - val_loss: 0.2216 - val_accuracy: 0.9406\n",
            "Epoch 33/50\n",
            "10/10 [==============================] - 17s 2s/step - loss: 0.3046 - accuracy: 0.9031 - val_loss: 0.1531 - val_accuracy: 0.8969\n",
            "Epoch 34/50\n",
            "10/10 [==============================] - 17s 2s/step - loss: 0.2078 - accuracy: 0.9281 - val_loss: 0.2314 - val_accuracy: 0.8906\n",
            "Epoch 35/50\n",
            "10/10 [==============================] - 20s 2s/step - loss: 0.1872 - accuracy: 0.9344 - val_loss: 0.3612 - val_accuracy: 0.8953\n",
            "Epoch 36/50\n",
            "10/10 [==============================] - 13s 1s/step - loss: 0.2619 - accuracy: 0.9125 - val_loss: 0.2546 - val_accuracy: 0.9094\n",
            "Epoch 37/50\n",
            "10/10 [==============================] - 21s 2s/step - loss: 0.2137 - accuracy: 0.9219 - val_loss: 0.1903 - val_accuracy: 0.9031\n",
            "Epoch 38/50\n",
            "10/10 [==============================] - 18s 2s/step - loss: 0.1526 - accuracy: 0.9500 - val_loss: 0.2438 - val_accuracy: 0.9375\n",
            "Epoch 39/50\n",
            "10/10 [==============================] - 17s 2s/step - loss: 0.1841 - accuracy: 0.9406 - val_loss: 0.2138 - val_accuracy: 0.9344\n",
            "Epoch 40/50\n",
            "10/10 [==============================] - 16s 2s/step - loss: 0.2291 - accuracy: 0.9309 - val_loss: 0.1272 - val_accuracy: 0.9223\n",
            "Epoch 41/50\n",
            "10/10 [==============================] - 16s 2s/step - loss: 0.2458 - accuracy: 0.9031 - val_loss: 0.4001 - val_accuracy: 0.9031\n",
            "Epoch 42/50\n",
            "10/10 [==============================] - 18s 2s/step - loss: 0.1950 - accuracy: 0.9344 - val_loss: 0.3575 - val_accuracy: 0.9094\n",
            "Epoch 43/50\n",
            "10/10 [==============================] - 18s 2s/step - loss: 0.2835 - accuracy: 0.9156 - val_loss: 0.1796 - val_accuracy: 0.8938\n",
            "Epoch 44/50\n",
            "10/10 [==============================] - 18s 2s/step - loss: 0.2401 - accuracy: 0.9094 - val_loss: 0.1587 - val_accuracy: 0.9219\n",
            "Epoch 45/50\n",
            "10/10 [==============================] - 18s 2s/step - loss: 0.1794 - accuracy: 0.9531 - val_loss: 0.1626 - val_accuracy: 0.9281\n",
            "Epoch 46/50\n",
            "10/10 [==============================] - 18s 2s/step - loss: 0.2000 - accuracy: 0.9469 - val_loss: 0.3797 - val_accuracy: 0.9324\n",
            "Epoch 47/50\n",
            "10/10 [==============================] - 15s 1s/step - loss: 0.1814 - accuracy: 0.9344 - val_loss: 0.2365 - val_accuracy: 0.9094\n",
            "Epoch 48/50\n",
            "10/10 [==============================] - 20s 2s/step - loss: 0.1518 - accuracy: 0.9531 - val_loss: 0.3497 - val_accuracy: 0.9219\n",
            "Epoch 49/50\n",
            "10/10 [==============================] - 19s 2s/step - loss: 0.1893 - accuracy: 0.9406 - val_loss: 0.1223 - val_accuracy: 0.9062\n",
            "Epoch 50/50\n",
            "10/10 [==============================] - 17s 2s/step - loss: 0.1561 - accuracy: 0.9531 - val_loss: 0.2148 - val_accuracy: 0.9062\n",
            "\n",
            "\n",
            "Total training time: 15.100870406627655  minutes.\n"
          ],
          "name": "stdout"
        }
      ]
    },
    {
      "cell_type": "code",
      "metadata": {
        "id": "RJj0zvruyVuu",
        "colab_type": "code",
        "colab": {
          "base_uri": "https://localhost:8080/",
          "height": 295
        },
        "outputId": "ce4736cf-d83d-47b3-c407-a983dcdd82c5"
      },
      "source": [
        "plt.plot(history.history['accuracy'])\n",
        "plt.plot(history.history['val_accuracy'])\n",
        "plt.title('model accuracy')\n",
        "plt.ylabel('accuracy')\n",
        "plt.xlabel('epoch')\n",
        "plt.legend(['train', 'validation'], loc='upper left')\n",
        "plt.savefig(\"/content/drive/My Drive/Data/Images/tuned_resnet101.png\")\n",
        "\n",
        "plt.show()"
      ],
      "execution_count": null,
      "outputs": [
        {
          "output_type": "display_data",
          "data": {
            "image/png": "[encoded data removed]",
            "text/plain": [
              "<Figure size 432x288 with 1 Axes>"
            ]
          },
          "metadata": {
            "tags": [],
            "needs_background": "light"
          }
        }
      ]
    },
    {
      "cell_type": "code",
      "metadata": {
        "id": "hQpAl6AFylIe",
        "colab_type": "code",
        "colab": {
          "base_uri": "https://localhost:8080/",
          "height": 295
        },
        "outputId": "b180495d-9909-43b8-9ea6-3f3460a76b2e"
      },
      "source": [
        "plt.plot(history.history['loss'])\n",
        "plt.plot(history.history['val_loss'])\n",
        "plt.title('model loss')\n",
        "plt.ylabel('loss')\n",
        "plt.xlabel('epoch')\n",
        "plt.legend(['train', 'validation'], loc='upper left')\n",
        "plt.savefig(\"/content/drive/My Drive/Data/Images/tuned_resnet101_loss.png\")\n",
        "plt.show()"
      ],
      "execution_count": null,
      "outputs": [
        {
          "output_type": "display_data",
          "data": {
            "image/png": "[encoded data removed]",
            "text/plain": [
              "<Figure size 432x288 with 1 Axes>"
            ]
          },
          "metadata": {
            "tags": [],
            "needs_background": "light"
          }
        }
      ]
    },
    {
      "cell_type": "code",
      "metadata": {
        "id": "6qN-bY-r0bGV",
        "colab_type": "code",
        "colab": {
          "base_uri": "https://localhost:8080/",
          "height": 34
        },
        "outputId": "ff600e66-3a9e-4bd6-ad00-a5c7f5b6ce57"
      },
      "source": [
        "_,accuracy = model.evaluate_generator(test_generator,len(test_generator),verbose=1) "
      ],
      "execution_count": null,
      "outputs": [
        {
          "output_type": "stream",
          "text": [
            "1800/1800 [==============================] - 78s 43ms/step\n"
          ],
          "name": "stdout"
        }
      ]
    },
    {
      "cell_type": "code",
      "metadata": {
        "id": "GcI8Nn940a8F",
        "colab_type": "code",
        "colab": {
          "base_uri": "https://localhost:8080/",
          "height": 34
        },
        "outputId": "fdbbe104-af97-4adb-b3e6-91feb0c88c4d"
      },
      "source": [
        "accuracy"
      ],
      "execution_count": null,
      "outputs": [
        {
          "output_type": "execute_result",
          "data": {
            "text/plain": [
              "0.9394444227218628"
            ]
          },
          "metadata": {
            "tags": []
          },
          "execution_count": 169
        }
      ]
    },
    {
      "cell_type": "markdown",
      "metadata": {
        "id": "y2LWdNjRtngz",
        "colab_type": "text"
      },
      "source": [
        "###  VGG19"
      ]
    },
    {
      "cell_type": "code",
      "metadata": {
        "id": "y87BnFnGtl42",
        "colab_type": "code",
        "colab": {}
      },
      "source": [
        "from keras.applications import VGG19\n",
        "from keras.applications.vgg19 import preprocess_input"
      ],
      "execution_count": null,
      "outputs": []
    },
    {
      "cell_type": "code",
      "metadata": {
        "id": "yM7vktDLfYss",
        "colab_type": "code",
        "colab": {}
      },
      "source": [
        "train_datagenerator = ImageDataGenerator(preprocessing_function=preprocess_input,horizontal_flip=True,validation_split=1/3,rotation_range=20, zoom_range=0.15,\n",
        "\twidth_shift_range=0.2, height_shift_range=0.2, shear_range=0.15,\n",
        "fill_mode=\"nearest\")"
      ],
      "execution_count": null,
      "outputs": []
    },
    {
      "cell_type": "code",
      "metadata": {
        "id": "5pnsJkd8fquT",
        "colab_type": "code",
        "colab": {
          "base_uri": "https://localhost:8080/",
          "height": 34
        },
        "outputId": "6a433dee-d889-435a-e71e-608bdcc0dd08"
      },
      "source": [
        "train_generator = train_datagenerator.flow_from_directory(\n",
        "        '/content/drive/My Drive/Data/Images/final part2 data/data/train',\n",
        "        target_size=(image_size, image_size),\n",
        "        batch_size=BATCH_SIZE,\n",
        "        class_mode='categorical',subset=\"training\")"
      ],
      "execution_count": null,
      "outputs": [
        {
          "output_type": "stream",
          "text": [
            "Found 3600 images belonging to 15 classes.\n"
          ],
          "name": "stdout"
        }
      ]
    },
    {
      "cell_type": "code",
      "metadata": {
        "id": "FL-NSxkugjxk",
        "colab_type": "code",
        "colab": {
          "base_uri": "https://localhost:8080/",
          "height": 34
        },
        "outputId": "c9c70d48-138d-4599-d6f2-2a956f292c4b"
      },
      "source": [
        "validation_generator=train_datagenerator.flow_from_directory(\n",
        "        '/content/drive/My Drive/Data/Images/final part2 data/data/train',\n",
        "        target_size=(image_size, image_size),\n",
        "        batch_size=BATCH_SIZE,\n",
        "        class_mode='categorical',subset=\"validation\")"
      ],
      "execution_count": null,
      "outputs": [
        {
          "output_type": "stream",
          "text": [
            "Found 1800 images belonging to 15 classes.\n"
          ],
          "name": "stdout"
        }
      ]
    },
    {
      "cell_type": "code",
      "metadata": {
        "id": "HtV1KoWrfq7b",
        "colab_type": "code",
        "colab": {}
      },
      "source": [
        "test_datagenerator = ImageDataGenerator(preprocessing_function=preprocess_input,horizontal_flip=True,rotation_range=20, zoom_range=0.15,\n",
        "\twidth_shift_range=0.2, height_shift_range=0.2, shear_range=0.15,\n",
        "fill_mode=\"nearest\")"
      ],
      "execution_count": null,
      "outputs": []
    },
    {
      "cell_type": "code",
      "metadata": {
        "id": "P30q93SKfrTZ",
        "colab_type": "code",
        "colab": {
          "base_uri": "https://localhost:8080/",
          "height": 34
        },
        "outputId": "cbad7be4-31b5-4a95-c845-93a91dd65d5c"
      },
      "source": [
        "test_generator = test_datagenerator.flow_from_directory(\n",
        "        '/content/drive/My Drive/Data/Images/final part2 data/data/test',\n",
        "        target_size=(image_size, image_size),\n",
        "        batch_size=1,\n",
        "        class_mode='categorical')"
      ],
      "execution_count": null,
      "outputs": [
        {
          "output_type": "stream",
          "text": [
            "Found 1800 images belonging to 15 classes.\n"
          ],
          "name": "stdout"
        }
      ]
    },
    {
      "cell_type": "code",
      "metadata": {
        "id": "k7aV77vHtlzr",
        "colab_type": "code",
        "colab": {}
      },
      "source": [
        "vgg19 = VGG19(weights='imagenet', include_top=False, pooling = 'avg',input_shape=(224,224, 3))"
      ],
      "execution_count": null,
      "outputs": []
    },
    {
      "cell_type": "code",
      "metadata": {
        "id": "nWBl5XVstlw5",
        "colab_type": "code",
        "colab": {}
      },
      "source": [
        "model = Sequential()\n",
        "model.add(vgg19)\n",
        "\n",
        "#ANN\n",
        "model.add(Dense(1024))\n",
        "model.add(LeakyReLU(0.25))\n",
        "model.add(Dropout(0.5))\n",
        "\n",
        "\n",
        "model.layers[0].trainable = False\n",
        "model.add(Dense(15, activation='softmax'))\n",
        "\n",
        "model.compile(optimizer=SGD(lr=0.001, decay=1e-6, momentum=0.9, nesterov=True), loss='categorical_crossentropy', metrics=['accuracy'])"
      ],
      "execution_count": null,
      "outputs": []
    },
    {
      "cell_type": "code",
      "metadata": {
        "id": "8I4p4bmDu7E1",
        "colab_type": "code",
        "colab": {
          "base_uri": "https://localhost:8080/",
          "height": 330
        },
        "outputId": "18bc66c6-426a-45a7-8fd2-b0617fc03205"
      },
      "source": [
        "model.summary()"
      ],
      "execution_count": null,
      "outputs": [
        {
          "output_type": "stream",
          "text": [
            "Model: \"sequential_34\"\n",
            "_________________________________________________________________\n",
            "Layer (type)                 Output Shape              Param #   \n",
            "=================================================================\n",
            "vgg19 (Model)                (None, 512)               20024384  \n",
            "_________________________________________________________________\n",
            "dense_69 (Dense)             (None, 1024)              525312    \n",
            "_________________________________________________________________\n",
            "leaky_re_lu_36 (LeakyReLU)   (None, 1024)              0         \n",
            "_________________________________________________________________\n",
            "dropout_30 (Dropout)         (None, 1024)              0         \n",
            "_________________________________________________________________\n",
            "dense_70 (Dense)             (None, 15)                15375     \n",
            "=================================================================\n",
            "Total params: 20,565,071\n",
            "Trainable params: 540,687\n",
            "Non-trainable params: 20,024,384\n",
            "_________________________________________________________________\n"
          ],
          "name": "stdout"
        }
      ]
    },
    {
      "cell_type": "code",
      "metadata": {
        "id": "hyVnS6fsz_b3",
        "colab_type": "code",
        "colab": {
          "base_uri": "https://localhost:8080/",
          "height": 1000
        },
        "outputId": "4af1bf84-92f1-426f-f706-24332b0fd2fa"
      },
      "source": [
        "start=time.time()\n",
        "\n",
        "history=model.fit_generator(\n",
        "    train_generator,\n",
        "    steps_per_epoch = 10,\n",
        "    validation_data = validation_generator, \n",
        "    validation_steps = 10,\n",
        "    epochs =50)\n",
        "\n",
        "end=time.time()\n",
        "print(\"\\n\")\n",
        "print(\"Total training time:\", (end-start)/60,\" minutes.\")"
      ],
      "execution_count": null,
      "outputs": [
        {
          "output_type": "stream",
          "text": [
            "Epoch 1/50\n",
            "10/10 [==============================] - 18s 2s/step - loss: 5.6782 - accuracy: 0.1688 - val_loss: 2.4305 - val_accuracy: 0.3969\n",
            "Epoch 2/50\n",
            "10/10 [==============================] - 17s 2s/step - loss: 2.8818 - accuracy: 0.3844 - val_loss: 1.1699 - val_accuracy: 0.7469\n",
            "Epoch 3/50\n",
            "10/10 [==============================] - 16s 2s/step - loss: 1.7374 - accuracy: 0.5656 - val_loss: 0.9496 - val_accuracy: 0.7812\n",
            "Epoch 4/50\n",
            "10/10 [==============================] - 17s 2s/step - loss: 1.2149 - accuracy: 0.6719 - val_loss: 0.7061 - val_accuracy: 0.8094\n",
            "Epoch 5/50\n",
            "10/10 [==============================] - 16s 2s/step - loss: 1.0586 - accuracy: 0.7437 - val_loss: 0.8348 - val_accuracy: 0.7906\n",
            "Epoch 6/50\n",
            "10/10 [==============================] - 18s 2s/step - loss: 0.8602 - accuracy: 0.7844 - val_loss: 0.4111 - val_accuracy: 0.8378\n",
            "Epoch 7/50\n",
            "10/10 [==============================] - 15s 1s/step - loss: 0.8684 - accuracy: 0.7406 - val_loss: 0.2786 - val_accuracy: 0.8656\n",
            "Epoch 8/50\n",
            "10/10 [==============================] - 18s 2s/step - loss: 1.0530 - accuracy: 0.7406 - val_loss: 0.9930 - val_accuracy: 0.8094\n",
            "Epoch 9/50\n",
            "10/10 [==============================] - 16s 2s/step - loss: 0.9136 - accuracy: 0.7533 - val_loss: 0.6904 - val_accuracy: 0.8500\n",
            "Epoch 10/50\n",
            "10/10 [==============================] - 17s 2s/step - loss: 0.7634 - accuracy: 0.8125 - val_loss: 1.0778 - val_accuracy: 0.8406\n",
            "Epoch 11/50\n",
            "10/10 [==============================] - 17s 2s/step - loss: 0.7988 - accuracy: 0.8031 - val_loss: 0.3210 - val_accuracy: 0.8656\n",
            "Epoch 12/50\n",
            "10/10 [==============================] - 20s 2s/step - loss: 0.5722 - accuracy: 0.8375 - val_loss: 0.4090 - val_accuracy: 0.8378\n",
            "Epoch 13/50\n",
            "10/10 [==============================] - 13s 1s/step - loss: 0.5452 - accuracy: 0.8219 - val_loss: 0.3924 - val_accuracy: 0.8562\n",
            "Epoch 14/50\n",
            "10/10 [==============================] - 17s 2s/step - loss: 0.6069 - accuracy: 0.8094 - val_loss: 0.5489 - val_accuracy: 0.8562\n",
            "Epoch 15/50\n",
            "10/10 [==============================] - 16s 2s/step - loss: 0.6516 - accuracy: 0.8289 - val_loss: 0.3330 - val_accuracy: 0.8969\n",
            "Epoch 16/50\n",
            "10/10 [==============================] - 18s 2s/step - loss: 0.5209 - accuracy: 0.8531 - val_loss: 0.2322 - val_accuracy: 0.8781\n",
            "Epoch 17/50\n",
            "10/10 [==============================] - 15s 2s/step - loss: 0.5475 - accuracy: 0.8156 - val_loss: 0.4480 - val_accuracy: 0.8719\n",
            "Epoch 18/50\n",
            "10/10 [==============================] - 22s 2s/step - loss: 0.5669 - accuracy: 0.8313 - val_loss: 0.3793 - val_accuracy: 0.8885\n",
            "Epoch 19/50\n",
            "10/10 [==============================] - 12s 1s/step - loss: 0.5573 - accuracy: 0.8438 - val_loss: 0.7078 - val_accuracy: 0.8375\n",
            "Epoch 20/50\n",
            "10/10 [==============================] - 16s 2s/step - loss: 0.5746 - accuracy: 0.8313 - val_loss: 0.3894 - val_accuracy: 0.9062\n",
            "Epoch 21/50\n",
            "10/10 [==============================] - 17s 2s/step - loss: 0.5173 - accuracy: 0.8469 - val_loss: 0.4740 - val_accuracy: 0.8656\n",
            "Epoch 22/50\n",
            "10/10 [==============================] - 16s 2s/step - loss: 0.4948 - accuracy: 0.8469 - val_loss: 0.6377 - val_accuracy: 0.8469\n",
            "Epoch 23/50\n",
            "10/10 [==============================] - 18s 2s/step - loss: 0.4074 - accuracy: 0.8719 - val_loss: 0.3989 - val_accuracy: 0.8784\n",
            "Epoch 24/50\n",
            "10/10 [==============================] - 16s 2s/step - loss: 0.4247 - accuracy: 0.8719 - val_loss: 0.1920 - val_accuracy: 0.8969\n",
            "Epoch 25/50\n",
            "10/10 [==============================] - 17s 2s/step - loss: 0.4427 - accuracy: 0.8687 - val_loss: 0.3286 - val_accuracy: 0.8656\n",
            "Epoch 26/50\n",
            "10/10 [==============================] - 16s 2s/step - loss: 0.4729 - accuracy: 0.8313 - val_loss: 0.2346 - val_accuracy: 0.8625\n",
            "Epoch 27/50\n",
            "10/10 [==============================] - 17s 2s/step - loss: 0.5193 - accuracy: 0.8250 - val_loss: 0.4328 - val_accuracy: 0.8719\n",
            "Epoch 28/50\n",
            "10/10 [==============================] - 17s 2s/step - loss: 0.4967 - accuracy: 0.8500 - val_loss: 0.1395 - val_accuracy: 0.9062\n",
            "Epoch 29/50\n",
            "10/10 [==============================] - 19s 2s/step - loss: 0.3618 - accuracy: 0.9062 - val_loss: 0.3414 - val_accuracy: 0.8682\n",
            "Epoch 30/50\n",
            "10/10 [==============================] - 13s 1s/step - loss: 0.4941 - accuracy: 0.8531 - val_loss: 0.2759 - val_accuracy: 0.9000\n",
            "Epoch 31/50\n",
            "10/10 [==============================] - 17s 2s/step - loss: 0.3927 - accuracy: 0.8844 - val_loss: 0.2203 - val_accuracy: 0.8719\n",
            "Epoch 32/50\n",
            "10/10 [==============================] - 17s 2s/step - loss: 0.6054 - accuracy: 0.8406 - val_loss: 0.3598 - val_accuracy: 0.8844\n",
            "Epoch 33/50\n",
            "10/10 [==============================] - 16s 2s/step - loss: 0.5062 - accuracy: 0.8438 - val_loss: 0.4888 - val_accuracy: 0.8750\n",
            "Epoch 34/50\n",
            "10/10 [==============================] - 17s 2s/step - loss: 0.3860 - accuracy: 0.8750 - val_loss: 0.3721 - val_accuracy: 0.8844\n",
            "Epoch 35/50\n",
            "10/10 [==============================] - 20s 2s/step - loss: 0.4119 - accuracy: 0.8750 - val_loss: 0.2357 - val_accuracy: 0.8446\n",
            "Epoch 36/50\n",
            "10/10 [==============================] - 13s 1s/step - loss: 0.4776 - accuracy: 0.8406 - val_loss: 0.1439 - val_accuracy: 0.9125\n",
            "Epoch 37/50\n",
            "10/10 [==============================] - 15s 2s/step - loss: 0.3978 - accuracy: 0.8781 - val_loss: 0.4143 - val_accuracy: 0.8594\n",
            "Epoch 38/50\n",
            "10/10 [==============================] - 16s 2s/step - loss: 0.3599 - accuracy: 0.8656 - val_loss: 0.5880 - val_accuracy: 0.8656\n",
            "Epoch 39/50\n",
            "10/10 [==============================] - 17s 2s/step - loss: 0.4253 - accuracy: 0.8813 - val_loss: 0.1748 - val_accuracy: 0.8969\n",
            "Epoch 40/50\n",
            "10/10 [==============================] - 17s 2s/step - loss: 0.4033 - accuracy: 0.8562 - val_loss: 0.5601 - val_accuracy: 0.8851\n",
            "Epoch 41/50\n",
            "10/10 [==============================] - 17s 2s/step - loss: 0.3936 - accuracy: 0.8750 - val_loss: 0.4346 - val_accuracy: 0.9000\n",
            "Epoch 42/50\n",
            "10/10 [==============================] - 17s 2s/step - loss: 0.3565 - accuracy: 0.9031 - val_loss: 0.1349 - val_accuracy: 0.9062\n",
            "Epoch 43/50\n",
            "10/10 [==============================] - 15s 2s/step - loss: 0.3542 - accuracy: 0.8906 - val_loss: 0.3030 - val_accuracy: 0.8781\n",
            "Epoch 44/50\n",
            "10/10 [==============================] - 18s 2s/step - loss: 0.3744 - accuracy: 0.8750 - val_loss: 0.5033 - val_accuracy: 0.9031\n",
            "Epoch 45/50\n",
            "10/10 [==============================] - 17s 2s/step - loss: 0.3830 - accuracy: 0.8844 - val_loss: 0.4369 - val_accuracy: 0.8531\n",
            "Epoch 46/50\n",
            "10/10 [==============================] - 19s 2s/step - loss: 0.2933 - accuracy: 0.9013 - val_loss: 0.5761 - val_accuracy: 0.8682\n",
            "Epoch 47/50\n",
            "10/10 [==============================] - 14s 1s/step - loss: 0.3738 - accuracy: 0.9000 - val_loss: 0.3167 - val_accuracy: 0.8844\n",
            "Epoch 48/50\n",
            "10/10 [==============================] - 17s 2s/step - loss: 0.2960 - accuracy: 0.9062 - val_loss: 0.1882 - val_accuracy: 0.8906\n",
            "Epoch 49/50\n",
            "10/10 [==============================] - 18s 2s/step - loss: 0.3300 - accuracy: 0.8906 - val_loss: 0.6534 - val_accuracy: 0.8844\n",
            "Epoch 50/50\n",
            "10/10 [==============================] - 16s 2s/step - loss: 0.3446 - accuracy: 0.8781 - val_loss: 0.4280 - val_accuracy: 0.9031\n",
            "\n",
            "\n",
            "Total training time: 13.890084453423817  minutes.\n"
          ],
          "name": "stdout"
        }
      ]
    },
    {
      "cell_type": "code",
      "metadata": {
        "id": "-zEH01GB0lPg",
        "colab_type": "code",
        "colab": {
          "base_uri": "https://localhost:8080/",
          "height": 295
        },
        "outputId": "3fb9b164-d228-4e13-cfde-3ad70e32b95f"
      },
      "source": [
        "plt.plot(history.history['accuracy'])\n",
        "plt.plot(history.history['val_accuracy'])\n",
        "plt.title('model accuracy')\n",
        "plt.ylabel('accuracy')\n",
        "plt.xlabel('epoch')\n",
        "plt.legend(['train', 'validation'], loc='upper left')\n",
        "plt.savefig(\"/content/drive/My Drive/Data/Images/vgg19.png\")\n",
        "\n",
        "plt.show()"
      ],
      "execution_count": null,
      "outputs": [
        {
          "output_type": "display_data",
          "data": {
            "image/png": "[encoded data removed]",
            "text/plain": [
              "<Figure size 432x288 with 1 Axes>"
            ]
          },
          "metadata": {
            "tags": [],
            "needs_background": "light"
          }
        }
      ]
    },
    {
      "cell_type": "code",
      "metadata": {
        "id": "6dX0a69z9Luw",
        "colab_type": "code",
        "colab": {
          "base_uri": "https://localhost:8080/",
          "height": 295
        },
        "outputId": "6e7ee530-4fb3-43a5-ac1a-ac83d5c94325"
      },
      "source": [
        "plt.plot(history.history['loss'])\n",
        "plt.plot(history.history['val_loss'])\n",
        "plt.title('model loss')\n",
        "plt.ylabel('loss')\n",
        "plt.xlabel('epoch')\n",
        "plt.legend(['train', 'validation'], loc='upper left')\n",
        "plt.savefig(\"/content/drive/My Drive/Data/Images/vgg19_loss.png\")\n",
        "plt.show()"
      ],
      "execution_count": null,
      "outputs": [
        {
          "output_type": "display_data",
          "data": {
            "image/png": "[encoded data removed]",
            "text/plain": [
              "<Figure size 432x288 with 1 Axes>"
            ]
          },
          "metadata": {
            "tags": [],
            "needs_background": "light"
          }
        }
      ]
    },
    {
      "cell_type": "code",
      "metadata": {
        "id": "V-1w8_OT9qGm",
        "colab_type": "code",
        "colab": {
          "base_uri": "https://localhost:8080/",
          "height": 34
        },
        "outputId": "b40a0edc-799e-45de-c4ee-abd68ef4f541"
      },
      "source": [
        "_,accuracy = model.evaluate_generator(test_generator,len(test_generator),verbose=1) "
      ],
      "execution_count": null,
      "outputs": [
        {
          "output_type": "stream",
          "text": [
            "1800/1800 [==============================] - 67s 37ms/step\n"
          ],
          "name": "stdout"
        }
      ]
    },
    {
      "cell_type": "code",
      "metadata": {
        "id": "ON6HTqaL9qJw",
        "colab_type": "code",
        "colab": {
          "base_uri": "https://localhost:8080/",
          "height": 34
        },
        "outputId": "0ad838d6-8180-4c86-edf4-9f4f757cea7c"
      },
      "source": [
        "accuracy"
      ],
      "execution_count": null,
      "outputs": [
        {
          "output_type": "execute_result",
          "data": {
            "text/plain": [
              "0.8922222256660461"
            ]
          },
          "metadata": {
            "tags": []
          },
          "execution_count": 44
        }
      ]
    },
    {
      "cell_type": "markdown",
      "metadata": {
        "id": "HnTwFH7dMtEV",
        "colab_type": "text"
      },
      "source": [
        "### Fine-tuned VGG19"
      ]
    },
    {
      "cell_type": "code",
      "metadata": {
        "id": "pNl1kPSPW3VK",
        "colab_type": "code",
        "colab": {}
      },
      "source": [
        "vgg19 = VGG19(weights='imagenet', include_top=False, pooling = 'avg',input_shape=(224,224, 3))"
      ],
      "execution_count": null,
      "outputs": []
    },
    {
      "cell_type": "code",
      "metadata": {
        "id": "XKXTsTCy9sHw",
        "colab_type": "code",
        "colab": {
          "base_uri": "https://localhost:8080/",
          "height": 34
        },
        "outputId": "4d70d3ab-51f1-4280-a804-f74cb36878b3"
      },
      "source": [
        "len(vgg19.layers)"
      ],
      "execution_count": null,
      "outputs": [
        {
          "output_type": "execute_result",
          "data": {
            "text/plain": [
              "23"
            ]
          },
          "metadata": {
            "tags": []
          },
          "execution_count": 443
        }
      ]
    },
    {
      "cell_type": "code",
      "metadata": {
        "id": "nictqvxcM5Wb",
        "colab_type": "code",
        "colab": {}
      },
      "source": [
        "for layer in vgg19.layers[:-6]:\n",
        "\t    layer.trainable=False"
      ],
      "execution_count": null,
      "outputs": []
    },
    {
      "cell_type": "code",
      "metadata": {
        "id": "CrPzw_cjM8X7",
        "colab_type": "code",
        "colab": {
          "base_uri": "https://localhost:8080/",
          "height": 416
        },
        "outputId": "7499781d-1b71-4fee-faec-75d49c767a04"
      },
      "source": [
        "i=0\n",
        "for layer in vgg19.layers:\n",
        "  print(i,layer,layer.trainable)\n",
        "  i+=1"
      ],
      "execution_count": null,
      "outputs": [
        {
          "output_type": "stream",
          "text": [
            "0 <keras.engine.input_layer.InputLayer object at 0x7efe1a600400> False\n",
            "1 <keras.layers.convolutional.Conv2D object at 0x7efe1a600e80> False\n",
            "2 <keras.layers.convolutional.Conv2D object at 0x7efe1a600240> False\n",
            "3 <keras.layers.pooling.MaxPooling2D object at 0x7efe1a600208> False\n",
            "4 <keras.layers.convolutional.Conv2D object at 0x7efe1a600c88> False\n",
            "5 <keras.layers.convolutional.Conv2D object at 0x7efe1a6159b0> False\n",
            "6 <keras.layers.pooling.MaxPooling2D object at 0x7efe1a940908> False\n",
            "7 <keras.layers.convolutional.Conv2D object at 0x7efe1a940748> False\n",
            "8 <keras.layers.convolutional.Conv2D object at 0x7efe1a960438> False\n",
            "9 <keras.layers.convolutional.Conv2D object at 0x7efe1a960e10> False\n",
            "10 <keras.layers.convolutional.Conv2D object at 0x7efe1a959a58> False\n",
            "11 <keras.layers.pooling.MaxPooling2D object at 0x7efe1a9f54e0> False\n",
            "12 <keras.layers.convolutional.Conv2D object at 0x7efe1a9f5320> False\n",
            "13 <keras.layers.convolutional.Conv2D object at 0x7efe1a9f5fd0> False\n",
            "14 <keras.layers.convolutional.Conv2D object at 0x7efe1aa09ba8> False\n",
            "15 <keras.layers.convolutional.Conv2D object at 0x7efe1aa08630> False\n",
            "16 <keras.layers.pooling.MaxPooling2D object at 0x7efe1aa08e48> False\n",
            "17 <keras.layers.convolutional.Conv2D object at 0x7efe1aa08fd0> True\n",
            "18 <keras.layers.convolutional.Conv2D object at 0x7efe1a9fbbe0> True\n",
            "19 <keras.layers.convolutional.Conv2D object at 0x7efe1a9f8780> True\n",
            "20 <keras.layers.convolutional.Conv2D object at 0x7efe1a9f8630> True\n",
            "21 <keras.layers.pooling.MaxPooling2D object at 0x7efe1a9f3c50> True\n",
            "22 <keras.layers.pooling.GlobalAveragePooling2D object at 0x7efe1a9f3a90> True\n"
          ],
          "name": "stdout"
        }
      ]
    },
    {
      "cell_type": "code",
      "metadata": {
        "id": "mcRVhf-QNBCT",
        "colab_type": "code",
        "colab": {}
      },
      "source": [
        "model = Sequential()\n",
        "model.add(vgg19)\n",
        "\n",
        "#ANN\n",
        "model.add(Dense(1024))\n",
        "model.add(LeakyReLU(0.25))\n",
        "model.add(Dropout(0.5))\n",
        "\n",
        "model.add(Dense(15, activation='softmax'))\n",
        "\n",
        "model.compile(optimizer=SGD(lr=0.001, decay=1e-6, momentum=0.9, nesterov=True), loss='categorical_crossentropy', metrics=['accuracy'])"
      ],
      "execution_count": null,
      "outputs": []
    },
    {
      "cell_type": "code",
      "metadata": {
        "id": "PNwOtsQ-NEDJ",
        "colab_type": "code",
        "colab": {
          "base_uri": "https://localhost:8080/",
          "height": 330
        },
        "outputId": "a07b42df-4480-4f53-b8a9-c5b40a8fd41c"
      },
      "source": [
        "model.summary()"
      ],
      "execution_count": null,
      "outputs": [
        {
          "output_type": "stream",
          "text": [
            "Model: \"sequential_48\"\n",
            "_________________________________________________________________\n",
            "Layer (type)                 Output Shape              Param #   \n",
            "=================================================================\n",
            "vgg19 (Model)                (None, 512)               20024384  \n",
            "_________________________________________________________________\n",
            "dense_95 (Dense)             (None, 1024)              525312    \n",
            "_________________________________________________________________\n",
            "leaky_re_lu_48 (LeakyReLU)   (None, 1024)              0         \n",
            "_________________________________________________________________\n",
            "dropout_48 (Dropout)         (None, 1024)              0         \n",
            "_________________________________________________________________\n",
            "dense_96 (Dense)             (None, 15)                15375     \n",
            "=================================================================\n",
            "Total params: 20,565,071\n",
            "Trainable params: 9,979,919\n",
            "Non-trainable params: 10,585,152\n",
            "_________________________________________________________________\n"
          ],
          "name": "stdout"
        }
      ]
    },
    {
      "cell_type": "code",
      "metadata": {
        "id": "CCEFwHDWNGuH",
        "colab_type": "code",
        "colab": {
          "base_uri": "https://localhost:8080/",
          "height": 1000
        },
        "outputId": "54557615-2c10-4e1a-9561-cca816677bac"
      },
      "source": [
        "start=time.time()\n",
        "\n",
        "history=model.fit_generator(\n",
        "    train_generator,\n",
        "    steps_per_epoch = 10,\n",
        "    validation_data = validation_generator, \n",
        "    validation_steps = 10,\n",
        "    epochs =50)\n",
        "\n",
        "end=time.time()\n",
        "print(\"\\n\")\n",
        "print(\"Total training time:\", (end-start)/60,\" minutes.\")"
      ],
      "execution_count": null,
      "outputs": [
        {
          "output_type": "stream",
          "text": [
            "Epoch 1/50\n",
            "10/10 [==============================] - 18s 2s/step - loss: 3.4587 - accuracy: 0.1125 - val_loss: 2.5763 - val_accuracy: 0.2406\n",
            "Epoch 2/50\n",
            "10/10 [==============================] - 17s 2s/step - loss: 2.5223 - accuracy: 0.1875 - val_loss: 2.4405 - val_accuracy: 0.3344\n",
            "Epoch 3/50\n",
            "10/10 [==============================] - 16s 2s/step - loss: 2.2929 - accuracy: 0.2688 - val_loss: 2.0113 - val_accuracy: 0.3156\n",
            "Epoch 4/50\n",
            "10/10 [==============================] - 16s 2s/step - loss: 2.1679 - accuracy: 0.2844 - val_loss: 1.8123 - val_accuracy: 0.4062\n",
            "Epoch 5/50\n",
            "10/10 [==============================] - 15s 1s/step - loss: 1.9889 - accuracy: 0.3421 - val_loss: 1.5364 - val_accuracy: 0.4812\n",
            "Epoch 6/50\n",
            "10/10 [==============================] - 17s 2s/step - loss: 1.5656 - accuracy: 0.4750 - val_loss: 1.0089 - val_accuracy: 0.5811\n",
            "Epoch 7/50\n",
            "10/10 [==============================] - 15s 1s/step - loss: 1.4763 - accuracy: 0.5219 - val_loss: 1.0397 - val_accuracy: 0.6031\n",
            "Epoch 8/50\n",
            "10/10 [==============================] - 15s 2s/step - loss: 1.4261 - accuracy: 0.5437 - val_loss: 1.0018 - val_accuracy: 0.6125\n",
            "Epoch 9/50\n",
            "10/10 [==============================] - 17s 2s/step - loss: 1.2721 - accuracy: 0.6031 - val_loss: 1.0390 - val_accuracy: 0.6781\n",
            "Epoch 10/50\n",
            "10/10 [==============================] - 16s 2s/step - loss: 1.1198 - accuracy: 0.6375 - val_loss: 1.0591 - val_accuracy: 0.7156\n",
            "Epoch 11/50\n",
            "10/10 [==============================] - 15s 2s/step - loss: 0.9923 - accuracy: 0.6594 - val_loss: 1.1093 - val_accuracy: 0.7375\n",
            "Epoch 12/50\n",
            "10/10 [==============================] - 18s 2s/step - loss: 0.8220 - accuracy: 0.7312 - val_loss: 0.9910 - val_accuracy: 0.7027\n",
            "Epoch 13/50\n",
            "10/10 [==============================] - 14s 1s/step - loss: 0.8393 - accuracy: 0.7531 - val_loss: 0.7833 - val_accuracy: 0.7937\n",
            "Epoch 14/50\n",
            "10/10 [==============================] - 17s 2s/step - loss: 0.7110 - accuracy: 0.7563 - val_loss: 0.4899 - val_accuracy: 0.8125\n",
            "Epoch 15/50\n",
            "10/10 [==============================] - 16s 2s/step - loss: 0.5766 - accuracy: 0.7969 - val_loss: 0.5418 - val_accuracy: 0.8094\n",
            "Epoch 16/50\n",
            "10/10 [==============================] - 17s 2s/step - loss: 0.6800 - accuracy: 0.7812 - val_loss: 0.8938 - val_accuracy: 0.8000\n",
            "Epoch 17/50\n",
            "10/10 [==============================] - 16s 2s/step - loss: 0.6747 - accuracy: 0.7812 - val_loss: 0.5021 - val_accuracy: 0.8281\n",
            "Epoch 18/50\n",
            "10/10 [==============================] - 21s 2s/step - loss: 0.6298 - accuracy: 0.7969 - val_loss: 0.4652 - val_accuracy: 0.8446\n",
            "Epoch 19/50\n",
            "10/10 [==============================] - 14s 1s/step - loss: 0.5912 - accuracy: 0.8188 - val_loss: 0.8655 - val_accuracy: 0.8125\n",
            "Epoch 20/50\n",
            "10/10 [==============================] - 13s 1s/step - loss: 0.8329 - accuracy: 0.7437 - val_loss: 0.3448 - val_accuracy: 0.8375\n",
            "Epoch 21/50\n",
            "10/10 [==============================] - 17s 2s/step - loss: 0.5674 - accuracy: 0.8313 - val_loss: 0.3773 - val_accuracy: 0.8188\n",
            "Epoch 22/50\n",
            "10/10 [==============================] - 15s 1s/step - loss: 0.5013 - accuracy: 0.8191 - val_loss: 0.4723 - val_accuracy: 0.8438\n",
            "Epoch 23/50\n",
            "10/10 [==============================] - 16s 2s/step - loss: 0.4703 - accuracy: 0.8375 - val_loss: 0.4110 - val_accuracy: 0.8851\n",
            "Epoch 24/50\n",
            "10/10 [==============================] - 16s 2s/step - loss: 0.4233 - accuracy: 0.8781 - val_loss: 0.8578 - val_accuracy: 0.8313\n",
            "Epoch 25/50\n",
            "10/10 [==============================] - 16s 2s/step - loss: 0.4309 - accuracy: 0.8969 - val_loss: 0.2981 - val_accuracy: 0.8438\n",
            "Epoch 26/50\n",
            "10/10 [==============================] - 16s 2s/step - loss: 0.5324 - accuracy: 0.8500 - val_loss: 0.4352 - val_accuracy: 0.8625\n",
            "Epoch 27/50\n",
            "10/10 [==============================] - 15s 2s/step - loss: 0.3826 - accuracy: 0.8980 - val_loss: 0.3056 - val_accuracy: 0.8969\n",
            "Epoch 28/50\n",
            "10/10 [==============================] - 16s 2s/step - loss: 0.3343 - accuracy: 0.8906 - val_loss: 0.1196 - val_accuracy: 0.8969\n",
            "Epoch 29/50\n",
            "10/10 [==============================] - 17s 2s/step - loss: 0.3430 - accuracy: 0.8938 - val_loss: 0.2776 - val_accuracy: 0.8885\n",
            "Epoch 30/50\n",
            "10/10 [==============================] - 13s 1s/step - loss: 0.4768 - accuracy: 0.8562 - val_loss: 0.8205 - val_accuracy: 0.8313\n",
            "Epoch 31/50\n",
            "10/10 [==============================] - 18s 2s/step - loss: 0.4726 - accuracy: 0.8719 - val_loss: 0.4908 - val_accuracy: 0.8469\n",
            "Epoch 32/50\n",
            "10/10 [==============================] - 16s 2s/step - loss: 0.4105 - accuracy: 0.8687 - val_loss: 0.4768 - val_accuracy: 0.8906\n",
            "Epoch 33/50\n",
            "10/10 [==============================] - 16s 2s/step - loss: 0.4023 - accuracy: 0.8719 - val_loss: 0.5298 - val_accuracy: 0.8906\n",
            "Epoch 34/50\n",
            "10/10 [==============================] - 17s 2s/step - loss: 0.4070 - accuracy: 0.8875 - val_loss: 0.4224 - val_accuracy: 0.8375\n",
            "Epoch 35/50\n",
            "10/10 [==============================] - 21s 2s/step - loss: 0.3148 - accuracy: 0.8875 - val_loss: 0.3831 - val_accuracy: 0.8818\n",
            "Epoch 36/50\n",
            "10/10 [==============================] - 12s 1s/step - loss: 0.3049 - accuracy: 0.9000 - val_loss: 0.2886 - val_accuracy: 0.8656\n",
            "Epoch 37/50\n",
            "10/10 [==============================] - 15s 2s/step - loss: 0.2595 - accuracy: 0.9250 - val_loss: 0.9008 - val_accuracy: 0.8844\n",
            "Epoch 38/50\n",
            "10/10 [==============================] - 16s 2s/step - loss: 0.4471 - accuracy: 0.8687 - val_loss: 0.3509 - val_accuracy: 0.8500\n",
            "Epoch 39/50\n",
            "10/10 [==============================] - 17s 2s/step - loss: 0.3593 - accuracy: 0.8750 - val_loss: 0.3510 - val_accuracy: 0.8750\n",
            "Epoch 40/50\n",
            "10/10 [==============================] - 16s 2s/step - loss: 0.3219 - accuracy: 0.8781 - val_loss: 0.3244 - val_accuracy: 0.8649\n",
            "Epoch 41/50\n",
            "10/10 [==============================] - 16s 2s/step - loss: 0.2904 - accuracy: 0.9031 - val_loss: 0.6574 - val_accuracy: 0.8656\n",
            "Epoch 42/50\n",
            "10/10 [==============================] - 17s 2s/step - loss: 0.2848 - accuracy: 0.9062 - val_loss: 0.4666 - val_accuracy: 0.8531\n",
            "Epoch 43/50\n",
            "10/10 [==============================] - 16s 2s/step - loss: 0.4279 - accuracy: 0.8750 - val_loss: 0.4728 - val_accuracy: 0.8719\n",
            "Epoch 44/50\n",
            "10/10 [==============================] - 16s 2s/step - loss: 0.2995 - accuracy: 0.8969 - val_loss: 0.0909 - val_accuracy: 0.8844\n",
            "Epoch 45/50\n",
            "10/10 [==============================] - 17s 2s/step - loss: 0.3059 - accuracy: 0.9219 - val_loss: 0.4476 - val_accuracy: 0.8875\n",
            "Epoch 46/50\n",
            "10/10 [==============================] - 17s 2s/step - loss: 0.2929 - accuracy: 0.9145 - val_loss: 0.1340 - val_accuracy: 0.9155\n",
            "Epoch 47/50\n",
            "10/10 [==============================] - 14s 1s/step - loss: 0.2223 - accuracy: 0.9281 - val_loss: 0.3131 - val_accuracy: 0.8687\n",
            "Epoch 48/50\n",
            "10/10 [==============================] - 17s 2s/step - loss: 0.2687 - accuracy: 0.9219 - val_loss: 0.1000 - val_accuracy: 0.8938\n",
            "Epoch 49/50\n",
            "10/10 [==============================] - 15s 2s/step - loss: 0.2223 - accuracy: 0.9344 - val_loss: 0.2553 - val_accuracy: 0.8813\n",
            "Epoch 50/50\n",
            "10/10 [==============================] - 17s 2s/step - loss: 0.3382 - accuracy: 0.8914 - val_loss: 0.3677 - val_accuracy: 0.8562\n",
            "\n",
            "\n",
            "Total training time: 13.452158351739248  minutes.\n"
          ],
          "name": "stdout"
        }
      ]
    },
    {
      "cell_type": "code",
      "metadata": {
        "id": "fzuOVmtMNKce",
        "colab_type": "code",
        "colab": {
          "base_uri": "https://localhost:8080/",
          "height": 295
        },
        "outputId": "b913a622-d920-4535-a2b6-1ad6e913dc59"
      },
      "source": [
        "plt.plot(history.history['accuracy'])\n",
        "plt.plot(history.history['val_accuracy'])\n",
        "plt.title('model accuracy')\n",
        "plt.ylabel('accuracy')\n",
        "plt.xlabel('epoch')\n",
        "plt.legend(['train', 'validation'], loc='upper left')\n",
        "plt.savefig(\"/content/drive/My Drive/Data/Images/tuned_vgg19.png\")\n",
        "\n",
        "plt.show()"
      ],
      "execution_count": null,
      "outputs": [
        {
          "output_type": "display_data",
          "data": {
            "image/png": "[encoded data removed]",
            "text/plain": [
              "<Figure size 432x288 with 1 Axes>"
            ]
          },
          "metadata": {
            "tags": [],
            "needs_background": "light"
          }
        }
      ]
    },
    {
      "cell_type": "code",
      "metadata": {
        "id": "_7ubRamzNNvd",
        "colab_type": "code",
        "colab": {
          "base_uri": "https://localhost:8080/",
          "height": 295
        },
        "outputId": "80ce9ccb-5a7f-4a96-90d4-c50a5cea02d1"
      },
      "source": [
        "plt.plot(history.history['loss'])\n",
        "plt.plot(history.history['val_loss'])\n",
        "plt.title('model loss')\n",
        "plt.ylabel('loss')\n",
        "plt.xlabel('epoch')\n",
        "plt.legend(['train', 'validation'], loc='upper left')\n",
        "plt.savefig(\"/content/drive/My Drive/Data/Images/tuned_vgg19_loss.png\")\n",
        "plt.show()"
      ],
      "execution_count": null,
      "outputs": [
        {
          "output_type": "display_data",
          "data": {
            "image/png": "[encoded data removed]",
            "text/plain": [
              "<Figure size 432x288 with 1 Axes>"
            ]
          },
          "metadata": {
            "tags": [],
            "needs_background": "light"
          }
        }
      ]
    },
    {
      "cell_type": "code",
      "metadata": {
        "colab_type": "code",
        "id": "KA2ksMODNPyq",
        "colab": {
          "base_uri": "https://localhost:8080/",
          "height": 34
        },
        "outputId": "0787877e-d6fc-4b91-d0d7-3281f3bae3d8"
      },
      "source": [
        "_,accuracy = model.evaluate_generator(test_generator,len(test_generator),verbose=1) "
      ],
      "execution_count": null,
      "outputs": [
        {
          "output_type": "stream",
          "text": [
            "1800/1800 [==============================] - 65s 36ms/step\n"
          ],
          "name": "stdout"
        }
      ]
    },
    {
      "cell_type": "code",
      "metadata": {
        "id": "YQ76oCyTNOJ_",
        "colab_type": "code",
        "colab": {
          "base_uri": "https://localhost:8080/",
          "height": 34
        },
        "outputId": "bcdd1bcc-eb93-4cf7-e419-b0c30a72e3b7"
      },
      "source": [
        "accuracy"
      ],
      "execution_count": null,
      "outputs": [
        {
          "output_type": "execute_result",
          "data": {
            "text/plain": [
              "0.8933333158493042"
            ]
          },
          "metadata": {
            "tags": []
          },
          "execution_count": 452
        }
      ]
    },
    {
      "cell_type": "markdown",
      "metadata": {
        "id": "AcQo21svGNkx",
        "colab_type": "text"
      },
      "source": [
        "###  Inception V3"
      ]
    },
    {
      "cell_type": "code",
      "metadata": {
        "id": "rAgk6PFWFXMf",
        "colab_type": "code",
        "colab": {}
      },
      "source": [
        "from keras.applications.inception_v3 import InceptionV3\n",
        "from keras.applications.inception_v3 import preprocess_input"
      ],
      "execution_count": null,
      "outputs": []
    },
    {
      "cell_type": "code",
      "metadata": {
        "id": "yAudHnz8hHxR",
        "colab_type": "code",
        "colab": {}
      },
      "source": [
        "inception_v3 = InceptionV3( pooling = 'avg',input_shape=(224,224, 3), weights='imagenet', include_top=False)"
      ],
      "execution_count": null,
      "outputs": []
    },
    {
      "cell_type": "code",
      "metadata": {
        "id": "r5gOacWXFXQ7",
        "colab_type": "code",
        "colab": {}
      },
      "source": [
        "train_datagenerator = ImageDataGenerator(preprocessing_function=preprocess_input,horizontal_flip=True,validation_split=1/3,rotation_range=20, zoom_range=0.15,\n",
        "\twidth_shift_range=0.2, height_shift_range=0.2, shear_range=0.15,\n",
        "fill_mode=\"nearest\")"
      ],
      "execution_count": null,
      "outputs": []
    },
    {
      "cell_type": "code",
      "metadata": {
        "id": "68NMfE35FXUW",
        "colab_type": "code",
        "colab": {
          "base_uri": "https://localhost:8080/",
          "height": 34
        },
        "outputId": "04e7a98f-61e9-4cb9-85be-ed8572b9a9c4"
      },
      "source": [
        "train_generator = train_datagenerator.flow_from_directory(\n",
        "        '/content/drive/My Drive/Data/Images/final part2 data/data/train',\n",
        "        target_size=(image_size, image_size),\n",
        "        batch_size=BATCH_SIZE,\n",
        "        class_mode='categorical',subset=\"training\")"
      ],
      "execution_count": null,
      "outputs": [
        {
          "output_type": "stream",
          "text": [
            "Found 3600 images belonging to 15 classes.\n"
          ],
          "name": "stdout"
        }
      ]
    },
    {
      "cell_type": "code",
      "metadata": {
        "id": "1o0okiQOFXX-",
        "colab_type": "code",
        "colab": {
          "base_uri": "https://localhost:8080/",
          "height": 34
        },
        "outputId": "06c01b92-3f3e-4efc-9008-270f489d185c"
      },
      "source": [
        "validation_generator=train_datagenerator.flow_from_directory(\n",
        "        '/content/drive/My Drive/Data/Images/final part2 data/data/train',\n",
        "        target_size=(image_size, image_size),\n",
        "        batch_size=BATCH_SIZE,\n",
        "        class_mode='categorical',subset=\"validation\")"
      ],
      "execution_count": null,
      "outputs": [
        {
          "output_type": "stream",
          "text": [
            "Found 1800 images belonging to 15 classes.\n"
          ],
          "name": "stdout"
        }
      ]
    },
    {
      "cell_type": "code",
      "metadata": {
        "id": "xCO8DqzWFXbX",
        "colab_type": "code",
        "colab": {}
      },
      "source": [
        "test_datagenerator = ImageDataGenerator(preprocessing_function=preprocess_input,horizontal_flip=True,rotation_range=20, zoom_range=0.15,\n",
        "\twidth_shift_range=0.2, height_shift_range=0.2, shear_range=0.15,\n",
        "fill_mode=\"nearest\")"
      ],
      "execution_count": null,
      "outputs": []
    },
    {
      "cell_type": "code",
      "metadata": {
        "id": "fCK-0HneFXfZ",
        "colab_type": "code",
        "colab": {
          "base_uri": "https://localhost:8080/",
          "height": 34
        },
        "outputId": "388fe394-2952-43d0-ab57-992d47f81230"
      },
      "source": [
        "test_generator = test_datagenerator.flow_from_directory(\n",
        "        '/content/drive/My Drive/Data/Images/final part2 data/data/test',\n",
        "        target_size=(image_size, image_size),\n",
        "        batch_size=1,\n",
        "        class_mode='categorical')"
      ],
      "execution_count": null,
      "outputs": [
        {
          "output_type": "stream",
          "text": [
            "Found 1800 images belonging to 15 classes.\n"
          ],
          "name": "stdout"
        }
      ]
    },
    {
      "cell_type": "code",
      "metadata": {
        "id": "Gb2lTMs7FXi2",
        "colab_type": "code",
        "colab": {}
      },
      "source": [
        "model = Sequential()\n",
        "model.add(inception_v3)\n",
        "\n",
        "#ANN\n",
        "model.add(Dense(512))\n",
        "model.add(LeakyReLU(0.25))\n",
        "model.add(Dropout(0.25))\n",
        "\n",
        "model.add(Dense(15, activation='softmax'))\n",
        "model.layers[0].trainable = False\n",
        "\n",
        "model.compile(optimizer=SGD(lr=0.001, decay=1e-6, momentum=0.9, nesterov=True), loss='categorical_crossentropy', metrics=['accuracy'])"
      ],
      "execution_count": null,
      "outputs": []
    },
    {
      "cell_type": "code",
      "metadata": {
        "id": "53HtLXcHFXmw",
        "colab_type": "code",
        "colab": {
          "base_uri": "https://localhost:8080/",
          "height": 330
        },
        "outputId": "78de3987-c49f-4c24-8c25-6529575b01a8"
      },
      "source": [
        "model.summary()"
      ],
      "execution_count": null,
      "outputs": [
        {
          "output_type": "stream",
          "text": [
            "Model: \"sequential_21\"\n",
            "_________________________________________________________________\n",
            "Layer (type)                 Output Shape              Param #   \n",
            "=================================================================\n",
            "inception_v3 (Model)         (None, 2048)              21802784  \n",
            "_________________________________________________________________\n",
            "dense_41 (Dense)             (None, 512)               1049088   \n",
            "_________________________________________________________________\n",
            "leaky_re_lu_21 (LeakyReLU)   (None, 512)               0         \n",
            "_________________________________________________________________\n",
            "dropout_21 (Dropout)         (None, 512)               0         \n",
            "_________________________________________________________________\n",
            "dense_42 (Dense)             (None, 15)                7695      \n",
            "=================================================================\n",
            "Total params: 22,859,567\n",
            "Trainable params: 1,056,783\n",
            "Non-trainable params: 21,802,784\n",
            "_________________________________________________________________\n"
          ],
          "name": "stdout"
        }
      ]
    },
    {
      "cell_type": "code",
      "metadata": {
        "id": "v0j-OxgBFXp5",
        "colab_type": "code",
        "colab": {
          "base_uri": "https://localhost:8080/",
          "height": 1000
        },
        "outputId": "39d35710-2d0f-4f16-837d-2e66f1085bdc"
      },
      "source": [
        "start=time.time()\n",
        "\n",
        "history=model.fit_generator(\n",
        "    train_generator,\n",
        "    steps_per_epoch = 10,\n",
        "    validation_data = validation_generator, \n",
        "    validation_steps = 10,\n",
        "    epochs =50)\n",
        "\n",
        "end=time.time()\n",
        "print(\"\\n\")\n",
        "print(\"Total training time:\", (end-start)/60,\" minutes.\")"
      ],
      "execution_count": null,
      "outputs": [
        {
          "output_type": "stream",
          "text": [
            "Epoch 1/50\n",
            "10/10 [==============================] - 22s 2s/step - loss: 2.8080 - accuracy: 0.1063 - val_loss: 2.7071 - val_accuracy: 0.0812\n",
            "Epoch 2/50\n",
            "10/10 [==============================] - 13s 1s/step - loss: 2.7300 - accuracy: 0.1094 - val_loss: 2.5627 - val_accuracy: 0.1594\n",
            "Epoch 3/50\n",
            "10/10 [==============================] - 15s 2s/step - loss: 2.6162 - accuracy: 0.1594 - val_loss: 2.5597 - val_accuracy: 0.1906\n",
            "Epoch 4/50\n",
            "10/10 [==============================] - 16s 2s/step - loss: 2.6005 - accuracy: 0.1344 - val_loss: 2.4223 - val_accuracy: 0.2656\n",
            "Epoch 5/50\n",
            "10/10 [==============================] - 16s 2s/step - loss: 2.4916 - accuracy: 0.1969 - val_loss: 2.0638 - val_accuracy: 0.3469\n",
            "Epoch 6/50\n",
            "10/10 [==============================] - 18s 2s/step - loss: 2.4444 - accuracy: 0.1844 - val_loss: 2.0346 - val_accuracy: 0.3581\n",
            "Epoch 7/50\n",
            "10/10 [==============================] - 14s 1s/step - loss: 2.3616 - accuracy: 0.2625 - val_loss: 1.9784 - val_accuracy: 0.4281\n",
            "Epoch 8/50\n",
            "10/10 [==============================] - 16s 2s/step - loss: 2.2534 - accuracy: 0.3625 - val_loss: 1.6745 - val_accuracy: 0.4531\n",
            "Epoch 9/50\n",
            "10/10 [==============================] - 15s 2s/step - loss: 2.2618 - accuracy: 0.3438 - val_loss: 1.9155 - val_accuracy: 0.4844\n",
            "Epoch 10/50\n",
            "10/10 [==============================] - 16s 2s/step - loss: 2.1964 - accuracy: 0.3562 - val_loss: 1.5132 - val_accuracy: 0.5375\n",
            "Epoch 11/50\n",
            "10/10 [==============================] - 15s 2s/step - loss: 2.1131 - accuracy: 0.3684 - val_loss: 1.5209 - val_accuracy: 0.5594\n",
            "Epoch 12/50\n",
            "10/10 [==============================] - 17s 2s/step - loss: 2.0723 - accuracy: 0.3906 - val_loss: 1.4060 - val_accuracy: 0.6385\n",
            "Epoch 13/50\n",
            "10/10 [==============================] - 13s 1s/step - loss: 1.9718 - accuracy: 0.4844 - val_loss: 1.1434 - val_accuracy: 0.6313\n",
            "Epoch 14/50\n",
            "10/10 [==============================] - 16s 2s/step - loss: 1.9405 - accuracy: 0.4563 - val_loss: 1.4432 - val_accuracy: 0.5969\n",
            "Epoch 15/50\n",
            "10/10 [==============================] - 17s 2s/step - loss: 1.9098 - accuracy: 0.4844 - val_loss: 1.4689 - val_accuracy: 0.6344\n",
            "Epoch 16/50\n",
            "10/10 [==============================] - 16s 2s/step - loss: 1.7579 - accuracy: 0.5469 - val_loss: 1.2613 - val_accuracy: 0.6469\n",
            "Epoch 17/50\n",
            "10/10 [==============================] - 16s 2s/step - loss: 1.8675 - accuracy: 0.4719 - val_loss: 0.9416 - val_accuracy: 0.6500\n",
            "Epoch 18/50\n",
            "10/10 [==============================] - 21s 2s/step - loss: 1.7404 - accuracy: 0.5375 - val_loss: 1.1231 - val_accuracy: 0.6892\n",
            "Epoch 19/50\n",
            "10/10 [==============================] - 12s 1s/step - loss: 1.6596 - accuracy: 0.5559 - val_loss: 1.1778 - val_accuracy: 0.5969\n",
            "Epoch 20/50\n",
            "10/10 [==============================] - 14s 1s/step - loss: 1.6581 - accuracy: 0.5375 - val_loss: 0.9540 - val_accuracy: 0.6812\n",
            "Epoch 21/50\n",
            "10/10 [==============================] - 15s 2s/step - loss: 1.6470 - accuracy: 0.5844 - val_loss: 1.1849 - val_accuracy: 0.6875\n",
            "Epoch 22/50\n",
            "10/10 [==============================] - 16s 2s/step - loss: 1.5793 - accuracy: 0.5688 - val_loss: 0.8569 - val_accuracy: 0.7000\n",
            "Epoch 23/50\n",
            "10/10 [==============================] - 17s 2s/step - loss: 1.5305 - accuracy: 0.6062 - val_loss: 1.1489 - val_accuracy: 0.6757\n",
            "Epoch 24/50\n",
            "10/10 [==============================] - 15s 1s/step - loss: 1.4875 - accuracy: 0.6187 - val_loss: 1.2572 - val_accuracy: 0.7469\n",
            "Epoch 25/50\n",
            "10/10 [==============================] - 15s 1s/step - loss: 1.4985 - accuracy: 0.6031 - val_loss: 0.9531 - val_accuracy: 0.6906\n",
            "Epoch 26/50\n",
            "10/10 [==============================] - 16s 2s/step - loss: 1.4056 - accuracy: 0.6500 - val_loss: 1.1401 - val_accuracy: 0.7125\n",
            "Epoch 27/50\n",
            "10/10 [==============================] - 17s 2s/step - loss: 1.4314 - accuracy: 0.6156 - val_loss: 1.1084 - val_accuracy: 0.6656\n",
            "Epoch 28/50\n",
            "10/10 [==============================] - 15s 1s/step - loss: 1.3340 - accuracy: 0.6625 - val_loss: 0.8461 - val_accuracy: 0.7500\n",
            "Epoch 29/50\n",
            "10/10 [==============================] - 17s 2s/step - loss: 1.4116 - accuracy: 0.6344 - val_loss: 0.6813 - val_accuracy: 0.7534\n",
            "Epoch 30/50\n",
            "10/10 [==============================] - 13s 1s/step - loss: 1.3708 - accuracy: 0.6156 - val_loss: 0.7251 - val_accuracy: 0.7625\n",
            "Epoch 31/50\n",
            "10/10 [==============================] - 17s 2s/step - loss: 1.2309 - accuracy: 0.6625 - val_loss: 0.7339 - val_accuracy: 0.7719\n",
            "Epoch 32/50\n",
            "10/10 [==============================] - 16s 2s/step - loss: 1.2261 - accuracy: 0.6743 - val_loss: 0.6109 - val_accuracy: 0.7437\n",
            "Epoch 33/50\n",
            "10/10 [==============================] - 15s 2s/step - loss: 1.2999 - accuracy: 0.6187 - val_loss: 0.9520 - val_accuracy: 0.7000\n",
            "Epoch 34/50\n",
            "10/10 [==============================] - 16s 2s/step - loss: 1.2929 - accuracy: 0.6500 - val_loss: 0.9133 - val_accuracy: 0.7500\n",
            "Epoch 35/50\n",
            "10/10 [==============================] - 22s 2s/step - loss: 1.2187 - accuracy: 0.6719 - val_loss: 0.6683 - val_accuracy: 0.7838\n",
            "Epoch 36/50\n",
            "10/10 [==============================] - 12s 1s/step - loss: 1.1566 - accuracy: 0.6844 - val_loss: 0.6922 - val_accuracy: 0.7406\n",
            "Epoch 37/50\n",
            "10/10 [==============================] - 15s 1s/step - loss: 1.1699 - accuracy: 0.6906 - val_loss: 1.0054 - val_accuracy: 0.7469\n",
            "Epoch 38/50\n",
            "10/10 [==============================] - 15s 2s/step - loss: 1.1492 - accuracy: 0.7031 - val_loss: 0.8072 - val_accuracy: 0.6906\n",
            "Epoch 39/50\n",
            "10/10 [==============================] - 15s 2s/step - loss: 1.2512 - accuracy: 0.5969 - val_loss: 1.0324 - val_accuracy: 0.7250\n",
            "Epoch 40/50\n",
            "10/10 [==============================] - 16s 2s/step - loss: 1.1264 - accuracy: 0.6750 - val_loss: 0.8246 - val_accuracy: 0.7872\n",
            "Epoch 41/50\n",
            "10/10 [==============================] - 15s 2s/step - loss: 1.0775 - accuracy: 0.6687 - val_loss: 0.9140 - val_accuracy: 0.7906\n",
            "Epoch 42/50\n",
            "10/10 [==============================] - 16s 2s/step - loss: 1.1990 - accuracy: 0.6438 - val_loss: 0.5023 - val_accuracy: 0.7937\n",
            "Epoch 43/50\n",
            "10/10 [==============================] - 15s 2s/step - loss: 1.0483 - accuracy: 0.7312 - val_loss: 0.7350 - val_accuracy: 0.7500\n",
            "Epoch 44/50\n",
            "10/10 [==============================] - 15s 2s/step - loss: 1.1308 - accuracy: 0.6579 - val_loss: 0.5080 - val_accuracy: 0.7625\n",
            "Epoch 45/50\n",
            "10/10 [==============================] - 17s 2s/step - loss: 0.9983 - accuracy: 0.7312 - val_loss: 0.5853 - val_accuracy: 0.7469\n",
            "Epoch 46/50\n",
            "10/10 [==============================] - 18s 2s/step - loss: 1.1684 - accuracy: 0.6562 - val_loss: 0.6837 - val_accuracy: 0.7432\n",
            "Epoch 47/50\n",
            "10/10 [==============================] - 14s 1s/step - loss: 1.0625 - accuracy: 0.7125 - val_loss: 0.8318 - val_accuracy: 0.7906\n",
            "Epoch 48/50\n",
            "10/10 [==============================] - 15s 2s/step - loss: 1.0435 - accuracy: 0.7156 - val_loss: 1.0974 - val_accuracy: 0.7281\n",
            "Epoch 49/50\n",
            "10/10 [==============================] - 16s 2s/step - loss: 1.0055 - accuracy: 0.7312 - val_loss: 1.2416 - val_accuracy: 0.7063\n",
            "Epoch 50/50\n",
            "10/10 [==============================] - 16s 2s/step - loss: 0.9620 - accuracy: 0.7171 - val_loss: 0.7925 - val_accuracy: 0.7594\n",
            "\n",
            "\n",
            "Total training time: 13.201227605342865  minutes.\n"
          ],
          "name": "stdout"
        }
      ]
    },
    {
      "cell_type": "code",
      "metadata": {
        "id": "dnjwDxjIHSgn",
        "colab_type": "code",
        "colab": {
          "base_uri": "https://localhost:8080/",
          "height": 295
        },
        "outputId": "8bad9cba-0216-472b-9291-b766e918d46d"
      },
      "source": [
        "plt.plot(history.history['accuracy'])\n",
        "plt.plot(history.history['val_accuracy'])\n",
        "plt.title('model accuracy')\n",
        "plt.ylabel('accuracy')\n",
        "plt.xlabel('epoch')\n",
        "plt.legend(['train', 'validation'], loc='upper left')\n",
        "plt.savefig(\"/content/drive/My Drive/Data/Images/inception_v3.png\")\n",
        "\n",
        "plt.show()"
      ],
      "execution_count": null,
      "outputs": [
        {
          "output_type": "display_data",
          "data": {
            "image/png": "[encoded data removed]",
            "text/plain": [
              "<Figure size 432x288 with 1 Axes>"
            ]
          },
          "metadata": {
            "tags": [],
            "needs_background": "light"
          }
        }
      ]
    },
    {
      "cell_type": "code",
      "metadata": {
        "id": "IWQcpEOzHS6N",
        "colab_type": "code",
        "colab": {
          "base_uri": "https://localhost:8080/",
          "height": 295
        },
        "outputId": "44b0d354-59f9-4453-a446-88876f706349"
      },
      "source": [
        "plt.plot(history.history['loss'])\n",
        "plt.plot(history.history['val_loss'])\n",
        "plt.title('model loss')\n",
        "plt.ylabel('loss')\n",
        "plt.xlabel('epoch')\n",
        "plt.legend(['train', 'validation'], loc='upper left')\n",
        "plt.savefig(\"/content/drive/My Drive/Data/Images/inception_v3_loss.png\")\n",
        "plt.show()"
      ],
      "execution_count": null,
      "outputs": [
        {
          "output_type": "display_data",
          "data": {
            "image/png": "[encoded data removed]",
            "text/plain": [
              "<Figure size 432x288 with 1 Axes>"
            ]
          },
          "metadata": {
            "tags": [],
            "needs_background": "light"
          }
        }
      ]
    },
    {
      "cell_type": "code",
      "metadata": {
        "id": "W2N6piZcHS_H",
        "colab_type": "code",
        "colab": {
          "base_uri": "https://localhost:8080/",
          "height": 34
        },
        "outputId": "268c20ce-1647-4917-98e7-e5f039fdfc35"
      },
      "source": [
        "_,accuracy = model.evaluate_generator(test_generator,len(test_generator),verbose=1) "
      ],
      "execution_count": null,
      "outputs": [
        {
          "output_type": "stream",
          "text": [
            "1800/1800 [==============================] - 74s 41ms/step\n"
          ],
          "name": "stdout"
        }
      ]
    },
    {
      "cell_type": "code",
      "metadata": {
        "id": "Y-RN-ahOHTKW",
        "colab_type": "code",
        "colab": {
          "base_uri": "https://localhost:8080/",
          "height": 34
        },
        "outputId": "2b4abd08-6dc9-4a8e-a1f4-6cf6375f2db0"
      },
      "source": [
        "accuracy"
      ],
      "execution_count": null,
      "outputs": [
        {
          "output_type": "execute_result",
          "data": {
            "text/plain": [
              "0.7955555319786072"
            ]
          },
          "metadata": {
            "tags": []
          },
          "execution_count": 209
        }
      ]
    },
    {
      "cell_type": "markdown",
      "metadata": {
        "id": "a_dBjMyxYAMA",
        "colab_type": "text"
      },
      "source": [
        "### Fine-tuned Inception V3"
      ]
    },
    {
      "cell_type": "code",
      "metadata": {
        "id": "vnBeq0svW94P",
        "colab_type": "code",
        "colab": {}
      },
      "source": [
        "inception_v3 = InceptionV3( pooling = 'avg',input_shape=(224,224, 3), weights='imagenet', include_top=False)"
      ],
      "execution_count": null,
      "outputs": []
    },
    {
      "cell_type": "code",
      "metadata": {
        "id": "P4eEIy3zYGvS",
        "colab_type": "code",
        "colab": {
          "base_uri": "https://localhost:8080/",
          "height": 34
        },
        "outputId": "249e5053-9ff6-49ac-d8bc-14b50b53014a"
      },
      "source": [
        "len(inception_v3.layers)"
      ],
      "execution_count": null,
      "outputs": [
        {
          "output_type": "execute_result",
          "data": {
            "text/plain": [
              "312"
            ]
          },
          "metadata": {
            "tags": []
          },
          "execution_count": 33
        }
      ]
    },
    {
      "cell_type": "code",
      "metadata": {
        "id": "Okt5xNPKYM_t",
        "colab_type": "code",
        "colab": {}
      },
      "source": [
        "for layer in inception_v3.layers[:-100]:\n",
        "\t    layer.trainable=False"
      ],
      "execution_count": null,
      "outputs": []
    },
    {
      "cell_type": "code",
      "metadata": {
        "id": "g5KxdbELHdiz",
        "colab_type": "code",
        "colab": {
          "base_uri": "https://localhost:8080/",
          "height": 1000
        },
        "outputId": "e06a2fc3-79bf-4a0c-b26c-ac7f7762c413"
      },
      "source": [
        "i=0\n",
        "for layer in inception_v3.layers:\n",
        "  print(i,layer,layer.trainable)\n",
        "  i+=1"
      ],
      "execution_count": null,
      "outputs": [
        {
          "output_type": "stream",
          "text": [
            "0 <keras.engine.input_layer.InputLayer object at 0x7effecd3edd8> False\n",
            "1 <keras.layers.convolutional.Conv2D object at 0x7effeac2aba8> False\n",
            "2 <keras.layers.normalization.BatchNormalization object at 0x7effecd7a0b8> False\n",
            "3 <keras.layers.core.Activation object at 0x7effecd7a080> False\n",
            "4 <keras.layers.convolutional.Conv2D object at 0x7effeac894a8> False\n",
            "5 <keras.layers.normalization.BatchNormalization object at 0x7effecd15748> False\n",
            "6 <keras.layers.core.Activation object at 0x7effee7a3c18> False\n",
            "7 <keras.layers.convolutional.Conv2D object at 0x7effecd22f60> False\n",
            "8 <keras.layers.normalization.BatchNormalization object at 0x7effecd279e8> False\n",
            "9 <keras.layers.core.Activation object at 0x7effec4c6c50> False\n",
            "10 <keras.layers.pooling.MaxPooling2D object at 0x7effec4e6d68> False\n",
            "11 <keras.layers.convolutional.Conv2D object at 0x7effec4e6d30> False\n",
            "12 <keras.layers.normalization.BatchNormalization object at 0x7effeccc7b70> False\n",
            "13 <keras.layers.core.Activation object at 0x7effec4f8550> False\n",
            "14 <keras.layers.convolutional.Conv2D object at 0x7effeccd6a20> False\n",
            "15 <keras.layers.normalization.BatchNormalization object at 0x7effecce87f0> False\n",
            "16 <keras.layers.core.Activation object at 0x7effecce8208> False\n",
            "17 <keras.layers.pooling.MaxPooling2D object at 0x7effecc7bdd8> False\n",
            "18 <keras.layers.convolutional.Conv2D object at 0x7effecc056a0> False\n",
            "19 <keras.layers.normalization.BatchNormalization object at 0x7effecc05550> False\n",
            "20 <keras.layers.core.Activation object at 0x7effecc17d68> False\n",
            "21 <keras.layers.convolutional.Conv2D object at 0x7effeccaa978> False\n",
            "22 <keras.layers.convolutional.Conv2D object at 0x7effecc2cdd8> False\n",
            "23 <keras.layers.normalization.BatchNormalization object at 0x7effecc3b908> False\n",
            "24 <keras.layers.normalization.BatchNormalization object at 0x7effecbbd908> False\n",
            "25 <keras.layers.core.Activation object at 0x7effecc409b0> False\n",
            "26 <keras.layers.core.Activation object at 0x7effecbc59b0> False\n",
            "27 <keras.layers.pooling.AveragePooling2D object at 0x7effecb886a0> False\n",
            "28 <keras.layers.convolutional.Conv2D object at 0x7effecc82160> False\n",
            "29 <keras.layers.convolutional.Conv2D object at 0x7effecc56be0> False\n",
            "30 <keras.layers.convolutional.Conv2D object at 0x7effecbdabe0> False\n",
            "31 <keras.layers.convolutional.Conv2D object at 0x7effecb88358> False\n",
            "32 <keras.layers.normalization.BatchNormalization object at 0x7effecca12b0> False\n",
            "33 <keras.layers.normalization.BatchNormalization object at 0x7effecc6b9b0> False\n",
            "34 <keras.layers.normalization.BatchNormalization object at 0x7effecbec9b0> False\n",
            "35 <keras.layers.normalization.BatchNormalization object at 0x7effecba84a8> False\n",
            "36 <keras.layers.core.Activation object at 0x7effecc96e10> False\n",
            "37 <keras.layers.core.Activation object at 0x7effecc6b3c8> False\n",
            "38 <keras.layers.core.Activation object at 0x7effecbec3c8> False\n",
            "39 <keras.layers.core.Activation object at 0x7effecb98d68> False\n",
            "40 <keras.layers.merge.Concatenate object at 0x7effecbaeb70> False\n",
            "41 <keras.layers.convolutional.Conv2D object at 0x7effecb385f8> False\n",
            "42 <keras.layers.normalization.BatchNormalization object at 0x7effecb384a8> False\n",
            "43 <keras.layers.core.Activation object at 0x7effecac9f60> False\n",
            "44 <keras.layers.convolutional.Conv2D object at 0x7effecb5cf98> False\n",
            "45 <keras.layers.convolutional.Conv2D object at 0x7effecae4f98> False\n",
            "46 <keras.layers.normalization.BatchNormalization object at 0x7effecb70860> False\n",
            "47 <keras.layers.normalization.BatchNormalization object at 0x7effecaf2860> False\n",
            "48 <keras.layers.core.Activation object at 0x7effecb75f60> False\n",
            "49 <keras.layers.core.Activation object at 0x7effecaf8f60> False\n",
            "50 <keras.layers.pooling.AveragePooling2D object at 0x7effeca3e5f8> False\n",
            "51 <keras.layers.convolutional.Conv2D object at 0x7effecbaeef0> False\n",
            "52 <keras.layers.convolutional.Conv2D object at 0x7effecb0ab38> False\n",
            "53 <keras.layers.convolutional.Conv2D object at 0x7effeca8eb38> False\n",
            "54 <keras.layers.convolutional.Conv2D object at 0x7effeca3e2b0> False\n",
            "55 <keras.layers.normalization.BatchNormalization object at 0x7effecb47390> False\n",
            "56 <keras.layers.normalization.BatchNormalization object at 0x7effecb1c908> False\n",
            "57 <keras.layers.normalization.BatchNormalization object at 0x7effecaa1908> False\n",
            "58 <keras.layers.normalization.BatchNormalization object at 0x7effeca5d400> False\n",
            "59 <keras.layers.core.Activation object at 0x7effecb56160> False\n",
            "60 <keras.layers.core.Activation object at 0x7effecb1c320> False\n",
            "61 <keras.layers.core.Activation object at 0x7effecaa1320> False\n",
            "62 <keras.layers.core.Activation object at 0x7effeca50f60> False\n",
            "63 <keras.layers.merge.Concatenate object at 0x7effeca67f98> False\n",
            "64 <keras.layers.convolutional.Conv2D object at 0x7effec9c2a20> False\n",
            "65 <keras.layers.normalization.BatchNormalization object at 0x7effec9f0400> False\n",
            "66 <keras.layers.core.Activation object at 0x7effec984eb8> False\n",
            "67 <keras.layers.convolutional.Conv2D object at 0x7effeca14f28> False\n",
            "68 <keras.layers.convolutional.Conv2D object at 0x7effec99af28> False\n",
            "69 <keras.layers.normalization.BatchNormalization object at 0x7effeca277b8> False\n",
            "70 <keras.layers.normalization.BatchNormalization object at 0x7effec9aa7b8> False\n",
            "71 <keras.layers.core.Activation object at 0x7effeca2ceb8> False\n",
            "72 <keras.layers.core.Activation object at 0x7effec9aeeb8> False\n",
            "73 <keras.layers.pooling.AveragePooling2D object at 0x7effec948a20> False\n",
            "74 <keras.layers.convolutional.Conv2D object at 0x7effeca67ac8> False\n",
            "75 <keras.layers.convolutional.Conv2D object at 0x7effec9c2a90> False\n",
            "76 <keras.layers.convolutional.Conv2D object at 0x7effec948a90> False\n",
            "77 <keras.layers.convolutional.Conv2D object at 0x7effec9751d0> False\n",
            "78 <keras.layers.normalization.BatchNormalization object at 0x7effec9fe2e8> False\n",
            "79 <keras.layers.normalization.BatchNormalization object at 0x7effec9d4860> False\n",
            "80 <keras.layers.normalization.BatchNormalization object at 0x7effec957860> False\n",
            "81 <keras.layers.normalization.BatchNormalization object at 0x7effec918358> False\n",
            "82 <keras.layers.core.Activation object at 0x7effeca0e0b8> False\n",
            "83 <keras.layers.core.Activation object at 0x7effec9d4278> False\n",
            "84 <keras.layers.core.Activation object at 0x7effec957278> False\n",
            "85 <keras.layers.core.Activation object at 0x7effec909eb8> False\n",
            "86 <keras.layers.merge.Concatenate object at 0x7effec91ea20> False\n",
            "87 <keras.layers.convolutional.Conv2D object at 0x7effec8cff28> False\n",
            "88 <keras.layers.normalization.BatchNormalization object at 0x7effec8ded68> False\n",
            "89 <keras.layers.core.Activation object at 0x7effec8e7e48> False\n",
            "90 <keras.layers.convolutional.Conv2D object at 0x7effec87e9e8> False\n",
            "91 <keras.layers.normalization.BatchNormalization object at 0x7effec88f7b8> False\n",
            "92 <keras.layers.core.Activation object at 0x7effec88f1d0> False\n",
            "93 <keras.layers.convolutional.Conv2D object at 0x7effec91ef28> False\n",
            "94 <keras.layers.convolutional.Conv2D object at 0x7effec8a5f98> False\n",
            "95 <keras.layers.normalization.BatchNormalization object at 0x7effec930ef0> False\n",
            "96 <keras.layers.normalization.BatchNormalization object at 0x7effec8aa358> False\n",
            "97 <keras.layers.core.Activation object at 0x7effec8c8278> False\n",
            "98 <keras.layers.core.Activation object at 0x7effec83ce10> False\n",
            "99 <keras.layers.pooling.MaxPooling2D object at 0x7effec852f28> False\n",
            "100 <keras.layers.merge.Concatenate object at 0x7effec852ef0> False\n",
            "101 <keras.layers.convolutional.Conv2D object at 0x7effec78ee10> False\n",
            "102 <keras.layers.normalization.BatchNormalization object at 0x7effec797c50> False\n",
            "103 <keras.layers.core.Activation object at 0x7effec797668> False\n",
            "104 <keras.layers.convolutional.Conv2D object at 0x7effec7af940> False\n",
            "105 <keras.layers.normalization.BatchNormalization object at 0x7effec745710> False\n",
            "106 <keras.layers.core.Activation object at 0x7effec745128> False\n",
            "107 <keras.layers.convolutional.Conv2D object at 0x7effec8026a0> False\n",
            "108 <keras.layers.convolutional.Conv2D object at 0x7effec75df60> False\n",
            "109 <keras.layers.normalization.BatchNormalization object at 0x7effec815c50> False\n",
            "110 <keras.layers.normalization.BatchNormalization object at 0x7effec7623c8> False\n",
            "111 <keras.layers.core.Activation object at 0x7effec815668> False\n",
            "112 <keras.layers.core.Activation object at 0x7effec775d68> False\n",
            "113 <keras.layers.convolutional.Conv2D object at 0x7effec831940> False\n",
            "114 <keras.layers.convolutional.Conv2D object at 0x7effec713e10> False\n",
            "115 <keras.layers.normalization.BatchNormalization object at 0x7effec7c1710> False\n",
            "116 <keras.layers.normalization.BatchNormalization object at 0x7effec71ec50> False\n",
            "117 <keras.layers.core.Activation object at 0x7effec7c1128> False\n",
            "118 <keras.layers.core.Activation object at 0x7effec71e668> False\n",
            "119 <keras.layers.pooling.AveragePooling2D object at 0x7effec6e3f60> False\n",
            "120 <keras.layers.convolutional.Conv2D object at 0x7effec852eb8> False\n",
            "121 <keras.layers.convolutional.Conv2D object at 0x7effec7d8f60> False\n",
            "122 <keras.layers.convolutional.Conv2D object at 0x7effec6bd940> False\n",
            "123 <keras.layers.convolutional.Conv2D object at 0x7effec6e3e10> False\n",
            "124 <keras.layers.normalization.BatchNormalization object at 0x7effec865c18> False\n",
            "125 <keras.layers.normalization.BatchNormalization object at 0x7effec7de3c8> False\n",
            "126 <keras.layers.normalization.BatchNormalization object at 0x7effec6cc710> False\n",
            "127 <keras.layers.normalization.BatchNormalization object at 0x7effec68a208> False\n",
            "128 <keras.layers.core.Activation object at 0x7effec809e10> False\n",
            "129 <keras.layers.core.Activation object at 0x7effec7edd68> False\n",
            "130 <keras.layers.core.Activation object at 0x7effec6cc128> False\n",
            "131 <keras.layers.core.Activation object at 0x7effec6fad68> False\n",
            "132 <keras.layers.merge.Concatenate object at 0x7effec692f98> False\n",
            "133 <keras.layers.convolutional.Conv2D object at 0x7effec5c5dd8> False\n",
            "134 <keras.layers.normalization.BatchNormalization object at 0x7effec5d8ba8> False\n",
            "135 <keras.layers.core.Activation object at 0x7effec5d85c0> False\n",
            "136 <keras.layers.convolutional.Conv2D object at 0x7effec5f1898> False\n",
            "137 <keras.layers.normalization.BatchNormalization object at 0x7effec586668> False\n",
            "138 <keras.layers.core.Activation object at 0x7effec586f60> False\n",
            "139 <keras.layers.convolutional.Conv2D object at 0x7effec641dd8> False\n",
            "140 <keras.layers.convolutional.Conv2D object at 0x7effec59bfd0> False\n",
            "141 <keras.layers.normalization.BatchNormalization object at 0x7effec652ba8> False\n",
            "142 <keras.layers.normalization.BatchNormalization object at 0x7effec5a1a58> False\n",
            "143 <keras.layers.core.Activation object at 0x7effec6525c0> False\n",
            "144 <keras.layers.core.Activation object at 0x7effec5b2cc0> False\n",
            "145 <keras.layers.convolutional.Conv2D object at 0x7effec66d898> False\n",
            "146 <keras.layers.convolutional.Conv2D object at 0x7effec54bdd8> False\n",
            "147 <keras.layers.normalization.BatchNormalization object at 0x7effec5ff668> False\n",
            "148 <keras.layers.normalization.BatchNormalization object at 0x7effec55eba8> False\n",
            "149 <keras.layers.core.Activation object at 0x7effec5fff60> False\n",
            "150 <keras.layers.core.Activation object at 0x7effec55e5c0> False\n",
            "151 <keras.layers.pooling.AveragePooling2D object at 0x7effec522fd0> False\n",
            "152 <keras.layers.convolutional.Conv2D object at 0x7effec692e48> False\n",
            "153 <keras.layers.convolutional.Conv2D object at 0x7effec616fd0> False\n",
            "154 <keras.layers.convolutional.Conv2D object at 0x7effec576898> False\n",
            "155 <keras.layers.convolutional.Conv2D object at 0x7effec522eb8> False\n",
            "156 <keras.layers.normalization.BatchNormalization object at 0x7effec6a0d30> False\n",
            "157 <keras.layers.normalization.BatchNormalization object at 0x7effec61ca58> False\n",
            "158 <keras.layers.normalization.BatchNormalization object at 0x7effec50a668> False\n",
            "159 <keras.layers.normalization.BatchNormalization object at 0x7effec488160> False\n",
            "160 <keras.layers.core.Activation object at 0x7effec6b0e10> False\n",
            "161 <keras.layers.core.Activation object at 0x7effec62fcc0> False\n",
            "162 <keras.layers.core.Activation object at 0x7effec50af60> False\n",
            "163 <keras.layers.core.Activation object at 0x7effec539cc0> False\n",
            "164 <keras.layers.merge.Concatenate object at 0x7effec48ef28> False\n",
            "165 <keras.layers.convolutional.Conv2D object at 0x7effec3c4d68> False\n",
            "166 <keras.layers.normalization.BatchNormalization object at 0x7effec3d5b38> False\n",
            "167 <keras.layers.core.Activation object at 0x7effec3d5550> False\n",
            "168 <keras.layers.convolutional.Conv2D object at 0x7effec3f1828> False\n",
            "169 <keras.layers.normalization.BatchNormalization object at 0x7effec3f16d8> False\n",
            "170 <keras.layers.core.Activation object at 0x7effec383ef0> False\n",
            "171 <keras.layers.convolutional.Conv2D object at 0x7effec43cd68> False\n",
            "172 <keras.layers.convolutional.Conv2D object at 0x7effec39cf60> False\n",
            "173 <keras.layers.normalization.BatchNormalization object at 0x7effec44fb38> False\n",
            "174 <keras.layers.normalization.BatchNormalization object at 0x7effec3a19e8> False\n",
            "175 <keras.layers.core.Activation object at 0x7effec44f550> False\n",
            "176 <keras.layers.core.Activation object at 0x7effec3b1c50> False\n",
            "177 <keras.layers.convolutional.Conv2D object at 0x7effec46d828> False\n",
            "178 <keras.layers.convolutional.Conv2D object at 0x7effec34ad68> False\n",
            "179 <keras.layers.normalization.BatchNormalization object at 0x7effec46d6d8> False\n",
            "180 <keras.layers.normalization.BatchNormalization object at 0x7effec359b38> False\n",
            "181 <keras.layers.core.Activation object at 0x7effec3ffef0> False\n",
            "182 <keras.layers.core.Activation object at 0x7effec359550> False\n",
            "183 <keras.layers.pooling.AveragePooling2D object at 0x7effec320f60> False\n",
            "184 <keras.layers.convolutional.Conv2D object at 0x7effec48eda0> False\n",
            "185 <keras.layers.convolutional.Conv2D object at 0x7effec415f60> False\n",
            "186 <keras.layers.convolutional.Conv2D object at 0x7effec378828> False\n",
            "187 <keras.layers.convolutional.Conv2D object at 0x7effec320e48> False\n",
            "188 <keras.layers.normalization.BatchNormalization object at 0x7effec4a2c88> False\n",
            "189 <keras.layers.normalization.BatchNormalization object at 0x7effec41c9e8> False\n",
            "190 <keras.layers.normalization.BatchNormalization object at 0x7effec3786d8> False\n",
            "191 <keras.layers.normalization.BatchNormalization object at 0x7effec2ca0f0> False\n",
            "192 <keras.layers.core.Activation object at 0x7effec4adf98> False\n",
            "193 <keras.layers.core.Activation object at 0x7effec42dc50> False\n",
            "194 <keras.layers.core.Activation object at 0x7effec30bef0> False\n",
            "195 <keras.layers.core.Activation object at 0x7effec338c50> False\n",
            "196 <keras.layers.merge.Concatenate object at 0x7effec2cef60> False\n",
            "197 <keras.layers.convolutional.Conv2D object at 0x7effec206cf8> False\n",
            "198 <keras.layers.normalization.BatchNormalization object at 0x7effec216ac8> False\n",
            "199 <keras.layers.core.Activation object at 0x7effec2164e0> False\n",
            "200 <keras.layers.convolutional.Conv2D object at 0x7effec2327b8> False\n",
            "201 <keras.layers.normalization.BatchNormalization object at 0x7effec232668> False\n",
            "202 <keras.layers.core.Activation object at 0x7effec1c3e80> False\n",
            "203 <keras.layers.convolutional.Conv2D object at 0x7effec2f7cf8> False\n",
            "204 <keras.layers.convolutional.Conv2D object at 0x7effec1deef0> False\n",
            "205 <keras.layers.normalization.BatchNormalization object at 0x7effec292ac8> False\n",
            "206 <keras.layers.normalization.BatchNormalization object at 0x7effec1ecef0> False\n",
            "207 <keras.layers.core.Activation object at 0x7effec2924e0> False\n",
            "208 <keras.layers.core.Activation object at 0x7effec1f3be0> False\n",
            "209 <keras.layers.convolutional.Conv2D object at 0x7effec2ad7b8> False\n",
            "210 <keras.layers.convolutional.Conv2D object at 0x7effec18ccf8> False\n",
            "211 <keras.layers.normalization.BatchNormalization object at 0x7effec2ad668> False\n",
            "212 <keras.layers.normalization.BatchNormalization object at 0x7effec19dac8> False\n",
            "213 <keras.layers.core.Activation object at 0x7effec23ee80> False\n",
            "214 <keras.layers.core.Activation object at 0x7effec19d4e0> False\n",
            "215 <keras.layers.pooling.AveragePooling2D object at 0x7effec161ef0> False\n",
            "216 <keras.layers.convolutional.Conv2D object at 0x7effec2cee80> False\n",
            "217 <keras.layers.convolutional.Conv2D object at 0x7effec257ef0> False\n",
            "218 <keras.layers.convolutional.Conv2D object at 0x7effec13a7b8> False\n",
            "219 <keras.layers.convolutional.Conv2D object at 0x7effec161dd8> False\n",
            "220 <keras.layers.normalization.BatchNormalization object at 0x7effec2e1c18> False\n",
            "221 <keras.layers.normalization.BatchNormalization object at 0x7effec268ef0> False\n",
            "222 <keras.layers.normalization.BatchNormalization object at 0x7effec13a668> False\n",
            "223 <keras.layers.normalization.BatchNormalization object at 0x7effec10a080> False\n",
            "224 <keras.layers.core.Activation object at 0x7effec2efe80> False\n",
            "225 <keras.layers.core.Activation object at 0x7effec26ebe0> False\n",
            "226 <keras.layers.core.Activation object at 0x7effec14be80> False\n",
            "227 <keras.layers.core.Activation object at 0x7effec178be0> False\n",
            "228 <keras.layers.merge.Concatenate object at 0x7effec112ef0> False\n",
            "229 <keras.layers.convolutional.Conv2D object at 0x7effec0eb710> False\n",
            "230 <keras.layers.normalization.BatchNormalization object at 0x7effec0eb5c0> False\n",
            "231 <keras.layers.core.Activation object at 0x7effec07ddd8> False\n",
            "232 <keras.layers.convolutional.Conv2D object at 0x7effec096e48> True\n",
            "233 <keras.layers.normalization.BatchNormalization object at 0x7effec0a7da0> True\n",
            "234 <keras.layers.core.Activation object at 0x7effec0aea20> True\n",
            "235 <keras.layers.convolutional.Conv2D object at 0x7effec112e48> True\n",
            "236 <keras.layers.convolutional.Conv2D object at 0x7effec045c50> True\n",
            "237 <keras.layers.normalization.BatchNormalization object at 0x7effec122d30> True\n",
            "238 <keras.layers.normalization.BatchNormalization object at 0x7effec056a20> True\n",
            "239 <keras.layers.core.Activation object at 0x7effec12fcf8> True\n",
            "240 <keras.layers.core.Activation object at 0x7effec056438> True\n",
            "241 <keras.layers.convolutional.Conv2D object at 0x7effec0bfc50> True\n",
            "242 <keras.layers.convolutional.Conv2D object at 0x7effec072710> True\n",
            "243 <keras.layers.normalization.BatchNormalization object at 0x7effec0d0a20> True\n",
            "244 <keras.layers.normalization.BatchNormalization object at 0x7effec0725c0> True\n",
            "245 <keras.layers.core.Activation object at 0x7effec0d0438> True\n",
            "246 <keras.layers.core.Activation object at 0x7effec002dd8> True\n",
            "247 <keras.layers.pooling.MaxPooling2D object at 0x7effec01de48> True\n",
            "248 <keras.layers.merge.Concatenate object at 0x7effec01dd30> True\n",
            "249 <keras.layers.convolutional.Conv2D object at 0x7effebf53c88> True\n",
            "250 <keras.layers.normalization.BatchNormalization object at 0x7effebf63da0> True\n",
            "251 <keras.layers.core.Activation object at 0x7effebf72e80> True\n",
            "252 <keras.layers.convolutional.Conv2D object at 0x7effebfccba8> True\n",
            "253 <keras.layers.convolutional.Conv2D object at 0x7effebf07dd8> True\n",
            "254 <keras.layers.normalization.BatchNormalization object at 0x7effebfde8d0> True\n",
            "255 <keras.layers.normalization.BatchNormalization object at 0x7effebf12c18> True\n",
            "256 <keras.layers.core.Activation object at 0x7effebfe3978> True\n",
            "257 <keras.layers.core.Activation object at 0x7effebf12630> True\n",
            "258 <keras.layers.convolutional.Conv2D object at 0x7effebf7aba8> True\n",
            "259 <keras.layers.convolutional.Conv2D object at 0x7effebfab668> True\n",
            "260 <keras.layers.convolutional.Conv2D object at 0x7effebf30908> True\n",
            "261 <keras.layers.convolutional.Conv2D object at 0x7effebed8f28> True\n",
            "262 <keras.layers.pooling.AveragePooling2D object at 0x7effebe87e48> True\n",
            "263 <keras.layers.convolutional.Conv2D object at 0x7effec01df60> True\n",
            "264 <keras.layers.normalization.BatchNormalization object at 0x7effebf8c978> True\n",
            "265 <keras.layers.normalization.BatchNormalization object at 0x7effebfab518> True\n",
            "266 <keras.layers.normalization.BatchNormalization object at 0x7effebec26d8> True\n",
            "267 <keras.layers.normalization.BatchNormalization object at 0x7effebedfac8> True\n",
            "268 <keras.layers.convolutional.Conv2D object at 0x7effebe87cf8> True\n",
            "269 <keras.layers.normalization.BatchNormalization object at 0x7effec033240> True\n",
            "270 <keras.layers.core.Activation object at 0x7effebf8c390> True\n",
            "271 <keras.layers.core.Activation object at 0x7effebf3ed30> True\n",
            "272 <keras.layers.core.Activation object at 0x7effebec2208> True\n",
            "273 <keras.layers.core.Activation object at 0x7effebef1d30> True\n",
            "274 <keras.layers.normalization.BatchNormalization object at 0x7effebe98630> True\n",
            "275 <keras.layers.core.Activation object at 0x7effebfcce10> True\n",
            "276 <keras.layers.merge.Concatenate object at 0x7effebf53da0> True\n",
            "277 <keras.layers.merge.Concatenate object at 0x7effebe8edd8> True\n",
            "278 <keras.layers.core.Activation object at 0x7effebeb8dd8> True\n",
            "279 <keras.layers.merge.Concatenate object at 0x7effebeb8da0> True\n",
            "280 <keras.layers.convolutional.Conv2D object at 0x7effebdeca90> True\n",
            "281 <keras.layers.normalization.BatchNormalization object at 0x7effe9f30b70> True\n",
            "282 <keras.layers.core.Activation object at 0x7effe9f3bbe0> True\n",
            "283 <keras.layers.convolutional.Conv2D object at 0x7effebe68b38> True\n",
            "284 <keras.layers.convolutional.Conv2D object at 0x7effe9f4a898> True\n",
            "285 <keras.layers.normalization.BatchNormalization object at 0x7effebe78908> True\n",
            "286 <keras.layers.normalization.BatchNormalization object at 0x7effe9f5e668> True\n",
            "287 <keras.layers.core.Activation object at 0x7effebe78320> True\n",
            "288 <keras.layers.core.Activation object at 0x7effe9f5ef60> True\n",
            "289 <keras.layers.convolutional.Conv2D object at 0x7effebe145f8> True\n",
            "290 <keras.layers.convolutional.Conv2D object at 0x7effebdbff98> True\n",
            "291 <keras.layers.convolutional.Conv2D object at 0x7effe9ef4fd0> True\n",
            "292 <keras.layers.convolutional.Conv2D object at 0x7effe9f23dd8> True\n",
            "293 <keras.layers.pooling.AveragePooling2D object at 0x7effe9ed17f0> True\n",
            "294 <keras.layers.convolutional.Conv2D object at 0x7effebeb8cc0> True\n",
            "295 <keras.layers.normalization.BatchNormalization object at 0x7effebe144a8> True\n",
            "296 <keras.layers.normalization.BatchNormalization object at 0x7effebdce860> True\n",
            "297 <keras.layers.normalization.BatchNormalization object at 0x7effe9efaa58> True\n",
            "298 <keras.layers.normalization.BatchNormalization object at 0x7effe9eb4ba8> True\n",
            "299 <keras.layers.convolutional.Conv2D object at 0x7effe9ed1a58> True\n",
            "300 <keras.layers.normalization.BatchNormalization object at 0x7effebe49a58> True\n",
            "301 <keras.layers.core.Activation object at 0x7effebe26f60> True\n",
            "302 <keras.layers.core.Activation object at 0x7effebdd6f60> True\n",
            "303 <keras.layers.core.Activation object at 0x7effe9f0ccc0> True\n",
            "304 <keras.layers.core.Activation object at 0x7effe9eb45c0> True\n",
            "305 <keras.layers.normalization.BatchNormalization object at 0x7effe9ee4f60> True\n",
            "306 <keras.layers.core.Activation object at 0x7effebe56ba8> True\n",
            "307 <keras.layers.merge.Concatenate object at 0x7effebdecb38> True\n",
            "308 <keras.layers.merge.Concatenate object at 0x7effe9ed1898> True\n",
            "309 <keras.layers.core.Activation object at 0x7effe9e7beb8> True\n",
            "310 <keras.layers.merge.Concatenate object at 0x7effe9e7f7f0> True\n",
            "311 <keras.layers.pooling.GlobalAveragePooling2D object at 0x7effe9e7f710> True\n"
          ],
          "name": "stdout"
        }
      ]
    },
    {
      "cell_type": "code",
      "metadata": {
        "id": "FzYf4quyI1Ls",
        "colab_type": "code",
        "colab": {}
      },
      "source": [
        "model = Sequential()\n",
        "model.add(inception_v3)\n",
        "\n",
        "#ANN\n",
        "model.add(Dense(512))\n",
        "model.add(LeakyReLU(0.25))\n",
        "model.add(Dropout(0.25))\n",
        "\n",
        "model.add(Dense(15, activation='softmax'))\n",
        "\n",
        "model.compile(optimizer=SGD(lr=0.001, decay=1e-6, momentum=0.9, nesterov=True), loss='categorical_crossentropy', metrics=['accuracy'])"
      ],
      "execution_count": null,
      "outputs": []
    },
    {
      "cell_type": "code",
      "metadata": {
        "id": "CCOFtchQYYyq",
        "colab_type": "code",
        "colab": {
          "base_uri": "https://localhost:8080/",
          "height": 330
        },
        "outputId": "81ad2cea-dfb1-4972-c8d8-573b7f6d5f8b"
      },
      "source": [
        "model.summary()"
      ],
      "execution_count": null,
      "outputs": [
        {
          "output_type": "stream",
          "text": [
            "Model: \"sequential_4\"\n",
            "_________________________________________________________________\n",
            "Layer (type)                 Output Shape              Param #   \n",
            "=================================================================\n",
            "inception_v3 (Model)         (None, 2048)              21802784  \n",
            "_________________________________________________________________\n",
            "dense_7 (Dense)              (None, 512)               1049088   \n",
            "_________________________________________________________________\n",
            "leaky_re_lu_4 (LeakyReLU)    (None, 512)               0         \n",
            "_________________________________________________________________\n",
            "dropout_4 (Dropout)          (None, 512)               0         \n",
            "_________________________________________________________________\n",
            "dense_8 (Dense)              (None, 15)                7695      \n",
            "=================================================================\n",
            "Total params: 22,859,567\n",
            "Trainable params: 13,721,039\n",
            "Non-trainable params: 9,138,528\n",
            "_________________________________________________________________\n"
          ],
          "name": "stdout"
        }
      ]
    },
    {
      "cell_type": "code",
      "metadata": {
        "id": "fb2XVdmIYbZm",
        "colab_type": "code",
        "colab": {
          "base_uri": "https://localhost:8080/",
          "height": 1000
        },
        "outputId": "3e5de5e6-edcb-4419-be0f-f0d0e72c50c1"
      },
      "source": [
        "start=time.time()\n",
        "\n",
        "history=model.fit_generator(\n",
        "    train_generator,\n",
        "    steps_per_epoch = 10,\n",
        "    validation_data = validation_generator, \n",
        "    validation_steps = 10,\n",
        "    epochs =50)\n",
        "\n",
        "end=time.time()\n",
        "print(\"\\n\")\n",
        "print(\"Total training time:\", (end-start)/60,\" minutes.\")"
      ],
      "execution_count": null,
      "outputs": [
        {
          "output_type": "stream",
          "text": [
            "Epoch 1/50\n",
            "10/10 [==============================] - 23s 2s/step - loss: 2.6716 - accuracy: 0.1187 - val_loss: 2.2167 - val_accuracy: 0.3250\n",
            "Epoch 2/50\n",
            "10/10 [==============================] - 14s 1s/step - loss: 1.9719 - accuracy: 0.5063 - val_loss: 1.3499 - val_accuracy: 0.6594\n",
            "Epoch 3/50\n",
            "10/10 [==============================] - 16s 2s/step - loss: 1.4032 - accuracy: 0.7125 - val_loss: 1.1227 - val_accuracy: 0.8094\n",
            "Epoch 4/50\n",
            "10/10 [==============================] - 16s 2s/step - loss: 1.0118 - accuracy: 0.8250 - val_loss: 0.6699 - val_accuracy: 0.8500\n",
            "Epoch 5/50\n",
            "10/10 [==============================] - 16s 2s/step - loss: 0.7864 - accuracy: 0.8469 - val_loss: 0.5914 - val_accuracy: 0.8562\n",
            "Epoch 6/50\n",
            "10/10 [==============================] - 17s 2s/step - loss: 0.6073 - accuracy: 0.8938 - val_loss: 0.6006 - val_accuracy: 0.8378\n",
            "Epoch 7/50\n",
            "10/10 [==============================] - 15s 1s/step - loss: 0.5920 - accuracy: 0.8375 - val_loss: 0.3029 - val_accuracy: 0.8844\n",
            "Epoch 8/50\n",
            "10/10 [==============================] - 16s 2s/step - loss: 0.5620 - accuracy: 0.8500 - val_loss: 0.2992 - val_accuracy: 0.8875\n",
            "Epoch 9/50\n",
            "10/10 [==============================] - 17s 2s/step - loss: 0.5089 - accuracy: 0.8500 - val_loss: 0.3318 - val_accuracy: 0.8844\n",
            "Epoch 10/50\n",
            "10/10 [==============================] - 15s 2s/step - loss: 0.5342 - accuracy: 0.8344 - val_loss: 0.2765 - val_accuracy: 0.9031\n",
            "Epoch 11/50\n",
            "10/10 [==============================] - 16s 2s/step - loss: 0.5190 - accuracy: 0.8454 - val_loss: 0.4079 - val_accuracy: 0.8938\n",
            "Epoch 12/50\n",
            "10/10 [==============================] - 18s 2s/step - loss: 0.4284 - accuracy: 0.8875 - val_loss: 0.5683 - val_accuracy: 0.8953\n",
            "Epoch 13/50\n",
            "10/10 [==============================] - 14s 1s/step - loss: 0.4218 - accuracy: 0.8625 - val_loss: 0.3169 - val_accuracy: 0.8687\n",
            "Epoch 14/50\n",
            "10/10 [==============================] - 15s 2s/step - loss: 0.4559 - accuracy: 0.8625 - val_loss: 0.5374 - val_accuracy: 0.8844\n",
            "Epoch 15/50\n",
            "10/10 [==============================] - 16s 2s/step - loss: 0.4807 - accuracy: 0.8375 - val_loss: 0.4073 - val_accuracy: 0.8750\n",
            "Epoch 16/50\n",
            "10/10 [==============================] - 15s 2s/step - loss: 0.4868 - accuracy: 0.8625 - val_loss: 0.1669 - val_accuracy: 0.8625\n",
            "Epoch 17/50\n",
            "10/10 [==============================] - 17s 2s/step - loss: 0.3935 - accuracy: 0.9031 - val_loss: 0.3625 - val_accuracy: 0.8938\n",
            "Epoch 18/50\n",
            "10/10 [==============================] - 21s 2s/step - loss: 0.3498 - accuracy: 0.8844 - val_loss: 0.4766 - val_accuracy: 0.9155\n",
            "Epoch 19/50\n",
            "10/10 [==============================] - 12s 1s/step - loss: 0.3207 - accuracy: 0.9000 - val_loss: 0.3621 - val_accuracy: 0.8438\n",
            "Epoch 20/50\n",
            "10/10 [==============================] - 15s 1s/step - loss: 0.4128 - accuracy: 0.8781 - val_loss: 0.3710 - val_accuracy: 0.8844\n",
            "Epoch 21/50\n",
            "10/10 [==============================] - 15s 2s/step - loss: 0.3766 - accuracy: 0.8684 - val_loss: 0.2479 - val_accuracy: 0.8969\n",
            "Epoch 22/50\n",
            "10/10 [==============================] - 16s 2s/step - loss: 0.4113 - accuracy: 0.8719 - val_loss: 0.8403 - val_accuracy: 0.8750\n",
            "Epoch 23/50\n",
            "10/10 [==============================] - 16s 2s/step - loss: 0.2874 - accuracy: 0.9312 - val_loss: 0.6113 - val_accuracy: 0.8784\n",
            "Epoch 24/50\n",
            "10/10 [==============================] - 14s 1s/step - loss: 0.3605 - accuracy: 0.9000 - val_loss: 0.6766 - val_accuracy: 0.8594\n",
            "Epoch 25/50\n",
            "10/10 [==============================] - 17s 2s/step - loss: 0.3929 - accuracy: 0.8719 - val_loss: 0.3514 - val_accuracy: 0.8813\n",
            "Epoch 26/50\n",
            "10/10 [==============================] - 15s 2s/step - loss: 0.3161 - accuracy: 0.9062 - val_loss: 0.4429 - val_accuracy: 0.8687\n",
            "Epoch 27/50\n",
            "10/10 [==============================] - 18s 2s/step - loss: 0.3504 - accuracy: 0.8938 - val_loss: 0.1728 - val_accuracy: 0.8781\n",
            "Epoch 28/50\n",
            "10/10 [==============================] - 16s 2s/step - loss: 0.3901 - accuracy: 0.8656 - val_loss: 0.4524 - val_accuracy: 0.8625\n",
            "Epoch 29/50\n",
            "10/10 [==============================] - 18s 2s/step - loss: 0.4193 - accuracy: 0.8406 - val_loss: 0.6509 - val_accuracy: 0.8784\n",
            "Epoch 30/50\n",
            "10/10 [==============================] - 13s 1s/step - loss: 0.4311 - accuracy: 0.8625 - val_loss: 0.3752 - val_accuracy: 0.8719\n",
            "Epoch 31/50\n",
            "10/10 [==============================] - 17s 2s/step - loss: 0.3294 - accuracy: 0.8938 - val_loss: 0.1854 - val_accuracy: 0.9031\n",
            "Epoch 32/50\n",
            "10/10 [==============================] - 16s 2s/step - loss: 0.3395 - accuracy: 0.9125 - val_loss: 0.3472 - val_accuracy: 0.8750\n",
            "Epoch 33/50\n",
            "10/10 [==============================] - 16s 2s/step - loss: 0.3394 - accuracy: 0.9031 - val_loss: 0.1901 - val_accuracy: 0.8656\n",
            "Epoch 34/50\n",
            "10/10 [==============================] - 16s 2s/step - loss: 0.4204 - accuracy: 0.8618 - val_loss: 0.3480 - val_accuracy: 0.8469\n",
            "Epoch 35/50\n",
            "10/10 [==============================] - 19s 2s/step - loss: 0.2549 - accuracy: 0.9187 - val_loss: 0.4582 - val_accuracy: 0.8784\n",
            "Epoch 36/50\n",
            "10/10 [==============================] - 12s 1s/step - loss: 0.2545 - accuracy: 0.9250 - val_loss: 0.2650 - val_accuracy: 0.8938\n",
            "Epoch 37/50\n",
            "10/10 [==============================] - 16s 2s/step - loss: 0.3707 - accuracy: 0.8875 - val_loss: 0.5570 - val_accuracy: 0.8594\n",
            "Epoch 38/50\n",
            "10/10 [==============================] - 16s 2s/step - loss: 0.3632 - accuracy: 0.8969 - val_loss: 0.4620 - val_accuracy: 0.8656\n",
            "Epoch 39/50\n",
            "10/10 [==============================] - 16s 2s/step - loss: 0.3489 - accuracy: 0.8687 - val_loss: 0.1574 - val_accuracy: 0.8844\n",
            "Epoch 40/50\n",
            "10/10 [==============================] - 16s 2s/step - loss: 0.3161 - accuracy: 0.9013 - val_loss: 0.2718 - val_accuracy: 0.8784\n",
            "Epoch 41/50\n",
            "10/10 [==============================] - 16s 2s/step - loss: 0.2569 - accuracy: 0.9125 - val_loss: 0.4126 - val_accuracy: 0.8781\n",
            "Epoch 42/50\n",
            "10/10 [==============================] - 16s 2s/step - loss: 0.3638 - accuracy: 0.8875 - val_loss: 0.2448 - val_accuracy: 0.8750\n",
            "Epoch 43/50\n",
            "10/10 [==============================] - 16s 2s/step - loss: 0.3036 - accuracy: 0.9031 - val_loss: 0.2638 - val_accuracy: 0.9062\n",
            "Epoch 44/50\n",
            "10/10 [==============================] - 16s 2s/step - loss: 0.3418 - accuracy: 0.8969 - val_loss: 0.6290 - val_accuracy: 0.8969\n",
            "Epoch 45/50\n",
            "10/10 [==============================] - 16s 2s/step - loss: 0.3120 - accuracy: 0.9031 - val_loss: 0.1927 - val_accuracy: 0.9125\n",
            "Epoch 46/50\n",
            "10/10 [==============================] - 16s 2s/step - loss: 0.2393 - accuracy: 0.9187 - val_loss: 0.4570 - val_accuracy: 0.8649\n",
            "Epoch 47/50\n",
            "10/10 [==============================] - 15s 1s/step - loss: 0.2671 - accuracy: 0.9046 - val_loss: 0.4053 - val_accuracy: 0.8813\n",
            "Epoch 48/50\n",
            "10/10 [==============================] - 16s 2s/step - loss: 0.2959 - accuracy: 0.9094 - val_loss: 0.3561 - val_accuracy: 0.8781\n",
            "Epoch 49/50\n",
            "10/10 [==============================] - 16s 2s/step - loss: 0.2674 - accuracy: 0.9125 - val_loss: 0.4317 - val_accuracy: 0.8625\n",
            "Epoch 50/50\n",
            "10/10 [==============================] - 16s 2s/step - loss: 0.3217 - accuracy: 0.8875 - val_loss: 0.6082 - val_accuracy: 0.8969\n",
            "\n",
            "\n",
            "Total training time: 13.472957456111908  minutes.\n"
          ],
          "name": "stdout"
        }
      ]
    },
    {
      "cell_type": "code",
      "metadata": {
        "id": "9IW3-3lBYpG7",
        "colab_type": "code",
        "colab": {
          "base_uri": "https://localhost:8080/",
          "height": 295
        },
        "outputId": "2e589c30-78b9-453d-8365-174350d8da7e"
      },
      "source": [
        "plt.plot(history.history['accuracy'])\n",
        "plt.plot(history.history['val_accuracy'])\n",
        "plt.title('model accuracy')\n",
        "plt.ylabel('accuracy')\n",
        "plt.xlabel('epoch')\n",
        "plt.legend(['train', 'validation'], loc='upper left')\n",
        "plt.savefig(\"/content/drive/My Drive/Data/Images/tuned inception_v3.png\")\n",
        "plt.show()"
      ],
      "execution_count": null,
      "outputs": [
        {
          "output_type": "display_data",
          "data": {
            "image/png": "[encoded data removed]",
            "text/plain": [
              "<Figure size 432x288 with 1 Axes>"
            ]
          },
          "metadata": {
            "tags": [],
            "needs_background": "light"
          }
        }
      ]
    },
    {
      "cell_type": "code",
      "metadata": {
        "id": "T_95ZfC5YpDv",
        "colab_type": "code",
        "colab": {
          "base_uri": "https://localhost:8080/",
          "height": 295
        },
        "outputId": "d92f87cb-d62e-494b-fc69-8ce24665ecbc"
      },
      "source": [
        "plt.plot(history.history['loss'])\n",
        "plt.plot(history.history['val_loss'])\n",
        "plt.title('model loss')\n",
        "plt.ylabel('loss')\n",
        "plt.xlabel('epoch')\n",
        "plt.legend(['train', 'validation'], loc='upper left')\n",
        "plt.savefig(\"/content/drive/My Drive/Data/Images/tuned inception_v3_loss.png\")\n",
        "plt.show()"
      ],
      "execution_count": null,
      "outputs": [
        {
          "output_type": "display_data",
          "data": {
            "image/png": "[encoded data removed]",
            "text/plain": [
              "<Figure size 432x288 with 1 Axes>"
            ]
          },
          "metadata": {
            "tags": [],
            "needs_background": "light"
          }
        }
      ]
    },
    {
      "cell_type": "code",
      "metadata": {
        "id": "BVJoUMHJYfrS",
        "colab_type": "code",
        "colab": {
          "base_uri": "https://localhost:8080/",
          "height": 34
        },
        "outputId": "ac5c89d8-c09f-4320-c5ac-7c89e2fae62b"
      },
      "source": [
        "_,accuracy = model.evaluate_generator(test_generator,len(test_generator),verbose=1) "
      ],
      "execution_count": null,
      "outputs": [
        {
          "output_type": "stream",
          "text": [
            "1800/1800 [==============================] - 72s 40ms/step\n"
          ],
          "name": "stdout"
        }
      ]
    },
    {
      "cell_type": "code",
      "metadata": {
        "id": "xKxp-wTSYiMp",
        "colab_type": "code",
        "colab": {
          "base_uri": "https://localhost:8080/",
          "height": 34
        },
        "outputId": "b7191e30-1557-41c4-c001-64cdb506aecf"
      },
      "source": [
        "accuracy"
      ],
      "execution_count": null,
      "outputs": [
        {
          "output_type": "execute_result",
          "data": {
            "text/plain": [
              "0.9011111259460449"
            ]
          },
          "metadata": {
            "tags": []
          },
          "execution_count": 50
        }
      ]
    },
    {
      "cell_type": "code",
      "metadata": {
        "id": "wxVk2mcEbnyl",
        "colab_type": "code",
        "colab": {}
      },
      "source": [
        ""
      ],
      "execution_count": null,
      "outputs": []
    }
  ]
}